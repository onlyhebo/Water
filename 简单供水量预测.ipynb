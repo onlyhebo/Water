{
 "cells": [
  {
   "cell_type": "code",
   "execution_count": 1,
   "metadata": {},
   "outputs": [],
   "source": [
    "import numpy as np # 数组操作\n",
    "import pandas as pd #文件操作\n",
    "import datetime\n",
    "import time"
   ]
  },
  {
   "cell_type": "code",
   "execution_count": 2,
   "metadata": {},
   "outputs": [
    {
     "data": {
      "text/html": [
       "<div>\n",
       "<style scoped>\n",
       "    .dataframe tbody tr th:only-of-type {\n",
       "        vertical-align: middle;\n",
       "    }\n",
       "\n",
       "    .dataframe tbody tr th {\n",
       "        vertical-align: top;\n",
       "    }\n",
       "\n",
       "    .dataframe thead th {\n",
       "        text-align: right;\n",
       "    }\n",
       "</style>\n",
       "<table border=\"1\" class=\"dataframe\">\n",
       "  <thead>\n",
       "    <tr style=\"text-align: right;\">\n",
       "      <th></th>\n",
       "      <th>日期</th>\n",
       "      <th>星期</th>\n",
       "      <th>月份</th>\n",
       "      <th>四季</th>\n",
       "      <th>最高气温</th>\n",
       "      <th>最低气温</th>\n",
       "      <th>平均气温</th>\n",
       "      <th>温度等级</th>\n",
       "      <th>天气</th>\n",
       "      <th>转天气</th>\n",
       "      <th>...</th>\n",
       "      <th>空气质量指数</th>\n",
       "      <th>PM2.5</th>\n",
       "      <th>PM10</th>\n",
       "      <th>SO2</th>\n",
       "      <th>CO</th>\n",
       "      <th>NO2</th>\n",
       "      <th>O3_8h</th>\n",
       "      <th>程度</th>\n",
       "      <th>节假日</th>\n",
       "      <th>总供水量</th>\n",
       "    </tr>\n",
       "  </thead>\n",
       "  <tbody>\n",
       "    <tr>\n",
       "      <th>0</th>\n",
       "      <td>2015-11-03</td>\n",
       "      <td>星期二</td>\n",
       "      <td>11</td>\n",
       "      <td>冬</td>\n",
       "      <td>21</td>\n",
       "      <td>13</td>\n",
       "      <td>17.0</td>\n",
       "      <td>舒适</td>\n",
       "      <td>多云</td>\n",
       "      <td>多云</td>\n",
       "      <td>...</td>\n",
       "      <td>119</td>\n",
       "      <td>90</td>\n",
       "      <td>106</td>\n",
       "      <td>21</td>\n",
       "      <td>1.4</td>\n",
       "      <td>84</td>\n",
       "      <td>112</td>\n",
       "      <td>轻度污染</td>\n",
       "      <td>上班</td>\n",
       "      <td>4363379</td>\n",
       "    </tr>\n",
       "    <tr>\n",
       "      <th>1</th>\n",
       "      <td>2015-11-04</td>\n",
       "      <td>星期三</td>\n",
       "      <td>11</td>\n",
       "      <td>冬</td>\n",
       "      <td>21</td>\n",
       "      <td>16</td>\n",
       "      <td>18.5</td>\n",
       "      <td>舒适</td>\n",
       "      <td>小雨</td>\n",
       "      <td>小雨</td>\n",
       "      <td>...</td>\n",
       "      <td>69</td>\n",
       "      <td>33</td>\n",
       "      <td>51</td>\n",
       "      <td>13</td>\n",
       "      <td>0.8</td>\n",
       "      <td>55</td>\n",
       "      <td>67</td>\n",
       "      <td>良</td>\n",
       "      <td>上班</td>\n",
       "      <td>4730486</td>\n",
       "    </tr>\n",
       "    <tr>\n",
       "      <th>2</th>\n",
       "      <td>2015-11-05</td>\n",
       "      <td>星期四</td>\n",
       "      <td>11</td>\n",
       "      <td>冬</td>\n",
       "      <td>24</td>\n",
       "      <td>18</td>\n",
       "      <td>21.0</td>\n",
       "      <td>舒适</td>\n",
       "      <td>多云</td>\n",
       "      <td>多云</td>\n",
       "      <td>...</td>\n",
       "      <td>73</td>\n",
       "      <td>41</td>\n",
       "      <td>66</td>\n",
       "      <td>18</td>\n",
       "      <td>0.8</td>\n",
       "      <td>58</td>\n",
       "      <td>64</td>\n",
       "      <td>良</td>\n",
       "      <td>上班</td>\n",
       "      <td>4488866</td>\n",
       "    </tr>\n",
       "    <tr>\n",
       "      <th>3</th>\n",
       "      <td>2015-11-06</td>\n",
       "      <td>星期五</td>\n",
       "      <td>11</td>\n",
       "      <td>冬</td>\n",
       "      <td>24</td>\n",
       "      <td>19</td>\n",
       "      <td>21.5</td>\n",
       "      <td>舒适</td>\n",
       "      <td>小雨</td>\n",
       "      <td>小雨</td>\n",
       "      <td>...</td>\n",
       "      <td>43</td>\n",
       "      <td>21</td>\n",
       "      <td>37</td>\n",
       "      <td>13</td>\n",
       "      <td>0.6</td>\n",
       "      <td>34</td>\n",
       "      <td>75</td>\n",
       "      <td>优</td>\n",
       "      <td>上班</td>\n",
       "      <td>4546968</td>\n",
       "    </tr>\n",
       "    <tr>\n",
       "      <th>4</th>\n",
       "      <td>2015-11-07</td>\n",
       "      <td>星期六</td>\n",
       "      <td>11</td>\n",
       "      <td>冬</td>\n",
       "      <td>25</td>\n",
       "      <td>16</td>\n",
       "      <td>20.5</td>\n",
       "      <td>舒适</td>\n",
       "      <td>雷阵雨</td>\n",
       "      <td>阵雨</td>\n",
       "      <td>...</td>\n",
       "      <td>65</td>\n",
       "      <td>47</td>\n",
       "      <td>52</td>\n",
       "      <td>16</td>\n",
       "      <td>1.1</td>\n",
       "      <td>39</td>\n",
       "      <td>48</td>\n",
       "      <td>良</td>\n",
       "      <td>周末</td>\n",
       "      <td>4344288</td>\n",
       "    </tr>\n",
       "  </tbody>\n",
       "</table>\n",
       "<p>5 rows × 22 columns</p>\n",
       "</div>"
      ],
      "text/plain": [
       "          日期   星期  月份 四季  最高气温  最低气温  平均气温 温度等级   天气 转天气   ...    空气质量指数  \\\n",
       "0 2015-11-03  星期二  11  冬    21    13  17.0   舒适   多云  多云   ...       119   \n",
       "1 2015-11-04  星期三  11  冬    21    16  18.5   舒适   小雨  小雨   ...        69   \n",
       "2 2015-11-05  星期四  11  冬    24    18  21.0   舒适   多云  多云   ...        73   \n",
       "3 2015-11-06  星期五  11  冬    24    19  21.5   舒适   小雨  小雨   ...        43   \n",
       "4 2015-11-07  星期六  11  冬    25    16  20.5   舒适  雷阵雨  阵雨   ...        65   \n",
       "\n",
       "  PM2.5  PM10  SO2   CO  NO2  O3_8h    程度  节假日     总供水量  \n",
       "0    90   106   21  1.4   84    112  轻度污染   上班  4363379  \n",
       "1    33    51   13  0.8   55     67     良   上班  4730486  \n",
       "2    41    66   18  0.8   58     64     良   上班  4488866  \n",
       "3    21    37   13  0.6   34     75     优   上班  4546968  \n",
       "4    47    52   16  1.1   39     48     良   周末  4344288  \n",
       "\n",
       "[5 rows x 22 columns]"
      ]
     },
     "execution_count": 2,
     "metadata": {},
     "output_type": "execute_result"
    }
   ],
   "source": [
    "data = pd.read_excel('./input1.xlsx')  \n",
    "data.head()  "
   ]
  },
  {
   "cell_type": "code",
   "execution_count": 3,
   "metadata": {},
   "outputs": [
    {
     "data": {
      "text/plain": [
       "(912, 22)"
      ]
     },
     "execution_count": 3,
     "metadata": {},
     "output_type": "execute_result"
    }
   ],
   "source": [
    "# check the shape of the DataFrame(rows, colums)  \n",
    "data.shape  "
   ]
  },
  {
   "cell_type": "code",
   "execution_count": 4,
   "metadata": {},
   "outputs": [],
   "source": [
    "drop = ['PM2.5','PM10','SO2','CO','NO2','O3_8h']\n",
    "data.drop(drop,axis=1, inplace=True) #将GIS关键字去掉"
   ]
  },
  {
   "cell_type": "code",
   "execution_count": 5,
   "metadata": {},
   "outputs": [
    {
     "data": {
      "text/plain": [
       "<Figure size 19200x800 with 12 Axes>"
      ]
     },
     "metadata": {},
     "output_type": "display_data"
    }
   ],
   "source": [
    "import seaborn as sns  \n",
    "import matplotlib.pyplot as plt   \n",
    "# visualize the relationship between the features and the response using scatterplots  \n",
    "sns.pairplot(data, x_vars=['星期','月份','平均气温','温度等级','四季','最低气温','天气','风向','风力','空气质量指数','程度','节假日'], y_vars='总供水量', size=8, aspect=2 ) \n",
    "plt.show()#注意必须加上这一句，否则无法显示。  "
   ]
  },
  {
   "cell_type": "code",
   "execution_count": 6,
   "metadata": {},
   "outputs": [],
   "source": [
    "y = data.pop('总供水量') #将y值取出\n",
    "from sklearn.preprocessing import LabelEncoder # 转化为数字\n",
    "data = pd.get_dummies(data)"
   ]
  },
  {
   "cell_type": "code",
   "execution_count": 7,
   "metadata": {},
   "outputs": [
    {
     "data": {
      "text/html": [
       "<div>\n",
       "<style scoped>\n",
       "    .dataframe tbody tr th:only-of-type {\n",
       "        vertical-align: middle;\n",
       "    }\n",
       "\n",
       "    .dataframe tbody tr th {\n",
       "        vertical-align: top;\n",
       "    }\n",
       "\n",
       "    .dataframe thead th {\n",
       "        text-align: right;\n",
       "    }\n",
       "</style>\n",
       "<table border=\"1\" class=\"dataframe\">\n",
       "  <thead>\n",
       "    <tr style=\"text-align: right;\">\n",
       "      <th></th>\n",
       "      <th>日期</th>\n",
       "      <th>月份</th>\n",
       "      <th>最高气温</th>\n",
       "      <th>最低气温</th>\n",
       "      <th>平均气温</th>\n",
       "      <th>空气质量指数</th>\n",
       "      <th>星期_星期一</th>\n",
       "      <th>星期_星期三</th>\n",
       "      <th>星期_星期二</th>\n",
       "      <th>星期_星期五</th>\n",
       "      <th>...</th>\n",
       "      <th>程度_重度污染</th>\n",
       "      <th>节假日_上班</th>\n",
       "      <th>节假日_中秋</th>\n",
       "      <th>节假日_元旦</th>\n",
       "      <th>节假日_劳动</th>\n",
       "      <th>节假日_周末</th>\n",
       "      <th>节假日_国庆</th>\n",
       "      <th>节假日_春节</th>\n",
       "      <th>节假日_清明</th>\n",
       "      <th>节假日_端午</th>\n",
       "    </tr>\n",
       "  </thead>\n",
       "  <tbody>\n",
       "    <tr>\n",
       "      <th>0</th>\n",
       "      <td>2015-11-03</td>\n",
       "      <td>11</td>\n",
       "      <td>21</td>\n",
       "      <td>13</td>\n",
       "      <td>17.0</td>\n",
       "      <td>119</td>\n",
       "      <td>0</td>\n",
       "      <td>0</td>\n",
       "      <td>1</td>\n",
       "      <td>0</td>\n",
       "      <td>...</td>\n",
       "      <td>0</td>\n",
       "      <td>1</td>\n",
       "      <td>0</td>\n",
       "      <td>0</td>\n",
       "      <td>0</td>\n",
       "      <td>0</td>\n",
       "      <td>0</td>\n",
       "      <td>0</td>\n",
       "      <td>0</td>\n",
       "      <td>0</td>\n",
       "    </tr>\n",
       "    <tr>\n",
       "      <th>1</th>\n",
       "      <td>2015-11-04</td>\n",
       "      <td>11</td>\n",
       "      <td>21</td>\n",
       "      <td>16</td>\n",
       "      <td>18.5</td>\n",
       "      <td>69</td>\n",
       "      <td>0</td>\n",
       "      <td>1</td>\n",
       "      <td>0</td>\n",
       "      <td>0</td>\n",
       "      <td>...</td>\n",
       "      <td>0</td>\n",
       "      <td>1</td>\n",
       "      <td>0</td>\n",
       "      <td>0</td>\n",
       "      <td>0</td>\n",
       "      <td>0</td>\n",
       "      <td>0</td>\n",
       "      <td>0</td>\n",
       "      <td>0</td>\n",
       "      <td>0</td>\n",
       "    </tr>\n",
       "    <tr>\n",
       "      <th>2</th>\n",
       "      <td>2015-11-05</td>\n",
       "      <td>11</td>\n",
       "      <td>24</td>\n",
       "      <td>18</td>\n",
       "      <td>21.0</td>\n",
       "      <td>73</td>\n",
       "      <td>0</td>\n",
       "      <td>0</td>\n",
       "      <td>0</td>\n",
       "      <td>0</td>\n",
       "      <td>...</td>\n",
       "      <td>0</td>\n",
       "      <td>1</td>\n",
       "      <td>0</td>\n",
       "      <td>0</td>\n",
       "      <td>0</td>\n",
       "      <td>0</td>\n",
       "      <td>0</td>\n",
       "      <td>0</td>\n",
       "      <td>0</td>\n",
       "      <td>0</td>\n",
       "    </tr>\n",
       "    <tr>\n",
       "      <th>3</th>\n",
       "      <td>2015-11-06</td>\n",
       "      <td>11</td>\n",
       "      <td>24</td>\n",
       "      <td>19</td>\n",
       "      <td>21.5</td>\n",
       "      <td>43</td>\n",
       "      <td>0</td>\n",
       "      <td>0</td>\n",
       "      <td>0</td>\n",
       "      <td>1</td>\n",
       "      <td>...</td>\n",
       "      <td>0</td>\n",
       "      <td>1</td>\n",
       "      <td>0</td>\n",
       "      <td>0</td>\n",
       "      <td>0</td>\n",
       "      <td>0</td>\n",
       "      <td>0</td>\n",
       "      <td>0</td>\n",
       "      <td>0</td>\n",
       "      <td>0</td>\n",
       "    </tr>\n",
       "    <tr>\n",
       "      <th>4</th>\n",
       "      <td>2015-11-07</td>\n",
       "      <td>11</td>\n",
       "      <td>25</td>\n",
       "      <td>16</td>\n",
       "      <td>20.5</td>\n",
       "      <td>65</td>\n",
       "      <td>0</td>\n",
       "      <td>0</td>\n",
       "      <td>0</td>\n",
       "      <td>0</td>\n",
       "      <td>...</td>\n",
       "      <td>0</td>\n",
       "      <td>0</td>\n",
       "      <td>0</td>\n",
       "      <td>0</td>\n",
       "      <td>0</td>\n",
       "      <td>1</td>\n",
       "      <td>0</td>\n",
       "      <td>0</td>\n",
       "      <td>0</td>\n",
       "      <td>0</td>\n",
       "    </tr>\n",
       "  </tbody>\n",
       "</table>\n",
       "<p>5 rows × 73 columns</p>\n",
       "</div>"
      ],
      "text/plain": [
       "          日期  月份  最高气温  最低气温  平均气温  空气质量指数  星期_星期一  星期_星期三  星期_星期二  星期_星期五  \\\n",
       "0 2015-11-03  11    21    13  17.0     119       0       0       1       0   \n",
       "1 2015-11-04  11    21    16  18.5      69       0       1       0       0   \n",
       "2 2015-11-05  11    24    18  21.0      73       0       0       0       0   \n",
       "3 2015-11-06  11    24    19  21.5      43       0       0       0       1   \n",
       "4 2015-11-07  11    25    16  20.5      65       0       0       0       0   \n",
       "\n",
       "    ...    程度_重度污染  节假日_上班  节假日_中秋  节假日_元旦  节假日_劳动  节假日_周末  节假日_国庆  节假日_春节  \\\n",
       "0   ...          0       1       0       0       0       0       0       0   \n",
       "1   ...          0       1       0       0       0       0       0       0   \n",
       "2   ...          0       1       0       0       0       0       0       0   \n",
       "3   ...          0       1       0       0       0       0       0       0   \n",
       "4   ...          0       0       0       0       0       1       0       0   \n",
       "\n",
       "   节假日_清明  节假日_端午  \n",
       "0       0       0  \n",
       "1       0       0  \n",
       "2       0       0  \n",
       "3       0       0  \n",
       "4       0       0  \n",
       "\n",
       "[5 rows x 73 columns]"
      ]
     },
     "execution_count": 7,
     "metadata": {},
     "output_type": "execute_result"
    }
   ],
   "source": [
    "data.head()"
   ]
  },
  {
   "cell_type": "code",
   "execution_count": 8,
   "metadata": {},
   "outputs": [
    {
     "data": {
      "text/plain": [
       "(912, 73)"
      ]
     },
     "execution_count": 8,
     "metadata": {},
     "output_type": "execute_result"
    }
   ],
   "source": [
    "data.shape"
   ]
  },
  {
   "cell_type": "code",
   "execution_count": 9,
   "metadata": {},
   "outputs": [
    {
     "name": "stdout",
     "output_type": "stream",
     "text": [
      "   最高气温  最低气温  平均气温  温度等级_舒适  温度等级_高温  温度等级_较高温  温度等级_较低温  温度等级_低温  空气质量指数  \\\n",
      "0    21    13  17.0        1        0         0         0        0     119   \n",
      "1    21    16  18.5        1        0         0         0        0      69   \n",
      "2    24    18  21.0        1        0         0         0        0      73   \n",
      "3    24    19  21.5        1        0         0         0        0      43   \n",
      "4    25    16  20.5        1        0         0         0        0      65   \n",
      "\n",
      "   星期_星期一   ...    程度_重度污染  程度_中度污染  节假日_上班  节假日_元旦  节假日_春节  节假日_清明  节假日_劳动  \\\n",
      "0       0   ...          0        0       1       0       0       0       0   \n",
      "1       0   ...          0        0       1       0       0       0       0   \n",
      "2       0   ...          0        0       1       0       0       0       0   \n",
      "3       0   ...          0        0       1       0       0       0       0   \n",
      "4       0   ...          0        0       0       0       0       0       0   \n",
      "\n",
      "   节假日_端午  节假日_国庆  节假日_周末  \n",
      "0       0       0       0  \n",
      "1       0       0       0  \n",
      "2       0       0       0  \n",
      "3       0       0       0  \n",
      "4       0       0       1  \n",
      "\n",
      "[5 rows x 71 columns]\n",
      "<class 'pandas.core.frame.DataFrame'>\n",
      "(912, 71)\n"
     ]
    }
   ],
   "source": [
    "#create a python list of feature names  \n",
    "feature_cols = ['最高气温','最低气温','平均气温','温度等级_舒适','温度等级_高温','温度等级_较高温','温度等级_较低温','温度等级_低温','空气质量指数','星期_星期一','星期_星期三','星期_星期二','星期_星期五','星期_星期六',\n",
    "               '星期_星期日','月份','四季_春','四季_夏','四季_秋','四季_冬','天气_暴雨','天气_大雨','天气_多云','天气_雷阵雨','天气_晴','天气_特大暴雨','天气_小雪','天气_小雨','天气_阴',\n",
    "                '天气_雨夹雪','天气_中雨','天气_阵雨','转天气_暴雨','转天气_大雨','转天气_雷阵雨','转天气_小雨','转天气_多云','转天气_晴','转天气_小雪',\n",
    "               '转天气_阵雨','转天气_阴','转天气_中雨','转天气_雨夹雪','转天气_中雨','转天气_中雪','风向_东风','风向_南风','风向_北风','风向_西风',\n",
    "                '风向_东南风','风向_东北风','风向_西南风','风向_西北风','风力_1-3级','风力_1-2级','风力_3-4级','风力_4-5级','风力_5-6级',\n",
    "               '程度_优', '程度_良', '程度_轻度污染', '程度_重度污染', '程度_中度污染','节假日_上班','节假日_元旦','节假日_春节','节假日_清明'\n",
    "         ,'节假日_劳动','节假日_端午','节假日_国庆','节假日_周末']  \n",
    "# use the list to select a subset of the original DataFrame  \n",
    "X = data[feature_cols]  \n",
    "# equivalent command to do this in one line  \n",
    "X = data[['最高气温','最低气温','平均气温','温度等级_舒适','温度等级_高温','温度等级_较高温','温度等级_较低温','温度等级_低温','空气质量指数','星期_星期一','星期_星期三','星期_星期二','星期_星期五','星期_星期六',\n",
    "               '星期_星期日','月份','四季_春','四季_夏','四季_秋','四季_冬','天气_暴雨','天气_大雨','天气_多云','天气_雷阵雨','天气_晴','天气_特大暴雨','天气_小雪','天气_小雨','天气_阴',\n",
    "                '天气_雨夹雪','天气_中雨','天气_阵雨','转天气_暴雨','转天气_大雨','转天气_雷阵雨','转天气_小雨','转天气_多云','转天气_晴','转天气_小雪',\n",
    "               '转天气_阵雨','转天气_阴','转天气_中雨','转天气_雨夹雪','转天气_中雨','转天气_中雪','风向_东风','风向_南风','风向_北风','风向_西风',\n",
    "                '风向_东南风','风向_东北风','风向_西南风','风向_西北风','风力_1-3级','风力_1-2级','风力_3-4级','风力_4-5级','风力_5-6级',\n",
    "               '程度_优', '程度_良', '程度_轻度污染', '程度_重度污染', '程度_中度污染','节假日_上班','节假日_元旦','节假日_春节','节假日_清明'\n",
    "         ,'节假日_劳动','节假日_端午','节假日_国庆','节假日_周末']]  \n",
    "# print the first 10 rows  \n",
    "print(X.head())\n",
    "# check the type and shape of X  \n",
    "print (type(X))  \n",
    "print (X.shape)  "
   ]
  },
  {
   "cell_type": "code",
   "execution_count": 10,
   "metadata": {},
   "outputs": [
    {
     "name": "stderr",
     "output_type": "stream",
     "text": [
      "c:\\python3\\lib\\site-packages\\sklearn\\cross_validation.py:41: DeprecationWarning: This module was deprecated in version 0.18 in favor of the model_selection module into which all the refactored classes and functions are moved. Also note that the interface of the new CV iterators are different from that of this module. This module will be removed in 0.20.\n",
      "  \"This module will be removed in 0.20.\", DeprecationWarning)\n"
     ]
    }
   ],
   "source": [
    "from sklearn.cross_validation import train_test_split  #这里是引用了交叉验证  \n",
    "X_train,X_test, y_train, y_test = train_test_split(X, y, test_size=0.1, random_state=0)  "
   ]
  },
  {
   "cell_type": "code",
   "execution_count": 11,
   "metadata": {},
   "outputs": [
    {
     "name": "stdout",
     "output_type": "stream",
     "text": [
      "(820, 71)\n",
      "(820,)\n",
      "(92, 71)\n",
      "(92,)\n"
     ]
    }
   ],
   "source": [
    "print (X_train.shape)  \n",
    "print (y_train.shape)\n",
    "print(X_test.shape  )\n",
    "print (y_test.shape )"
   ]
  },
  {
   "cell_type": "code",
   "execution_count": 12,
   "metadata": {},
   "outputs": [
    {
     "name": "stdout",
     "output_type": "stream",
     "text": [
      "<bound method NDFrame.head of 252    4670102\n",
      "694    4436869\n",
      "144    4412078\n",
      "747    4278936\n",
      "145    4442451\n",
      "372    4270689\n",
      "55     4276108\n",
      "908    4107598\n",
      "97     3677722\n",
      "14     4299903\n",
      "652    4562302\n",
      "497    4277014\n",
      "568    4138510\n",
      "196    4392865\n",
      "721    4345213\n",
      "204    4568580\n",
      "548    4067754\n",
      "181    4228250\n",
      "655    4614450\n",
      "706    4452281\n",
      "801    4294178\n",
      "31     4202790\n",
      "270    4865027\n",
      "103    3964593\n",
      "285    4795858\n",
      "745    4163870\n",
      "150    4376338\n",
      "399    4286970\n",
      "320    4523283\n",
      "240    4742567\n",
      "        ...   \n",
      "338    4115007\n",
      "533    4367965\n",
      "580    4105498\n",
      "434    4265087\n",
      "713    4100621\n",
      "60     4203537\n",
      "654    4569031\n",
      "239    4371388\n",
      "391    4406934\n",
      "728    4302003\n",
      "531    4261750\n",
      "871    4272528\n",
      "158    4500011\n",
      "214    4254374\n",
      "535    4275495\n",
      "703    3961405\n",
      "634    4731838\n",
      "8      4584433\n",
      "746    4198193\n",
      "646    4634886\n",
      "881    4217217\n",
      "255    4716658\n",
      "271    4810335\n",
      "733    4233912\n",
      "557    4349583\n",
      "790    4189809\n",
      "844    3729013\n",
      "337    4060647\n",
      "34     4329784\n",
      "363    4255463\n",
      "Name: 总供水量, Length: 92, dtype: int64>\n"
     ]
    }
   ],
   "source": [
    "print(y_test.head)"
   ]
  },
  {
   "cell_type": "code",
   "execution_count": 13,
   "metadata": {},
   "outputs": [
    {
     "name": "stdout",
     "output_type": "stream",
     "text": [
      "LinearRegression(copy_X=True, fit_intercept=True, n_jobs=1, normalize=False)\n",
      "3586864.2533185123\n",
      "[  13498.25545853    -980.1321372     6259.06166067 -134001.75860043\n",
      "   78033.60941806    8693.16093073  -74245.41821916  121520.4064708\n",
      "    1185.23757081   27006.46916229   -4304.51831316   19969.28650738\n",
      "   17762.44749719  -46455.54683434  -55329.79223847   -5254.36259236\n",
      "  -39610.36896497  -68994.5071923    41130.08377333   67474.79238394\n",
      "  -89672.85560531   43731.26549371   36055.07391372  -23462.68712612\n",
      "    8480.60752338 -179979.5022837   -61093.51907502   15304.45722385\n",
      "   21474.99020924  344201.47888106  -41382.53253326  -73656.77662154\n",
      "   72693.53864659   70995.24801005   80538.46261074   36898.22179495\n",
      "   46515.29926501   62515.36779596 -402755.64112242    9913.08568463\n",
      "   54881.27911865   -4992.7541805    33891.41145134   -4992.7541805\n",
      "  -61093.51907502   -4564.28359178  -15550.52940392    2797.5548917\n",
      "   13736.78904782   20564.64165969   12227.51298709   -9704.23742022\n",
      "  -19507.44817038   12997.60899666   75095.15669212   14798.00631714\n",
      "  -27994.22720495  -74896.54480097   42081.275692     67482.62036897\n",
      "   41534.81180318 -163663.68057663   12564.97271248  220827.5640999\n",
      "  191063.35909458 -532387.0019703    36817.81744491  -75544.70903348\n",
      "   22405.44324983 -197696.35619236  265702.58192664]\n"
     ]
    }
   ],
   "source": [
    "from sklearn.linear_model import LinearRegression  \n",
    "linreg = LinearRegression()  \n",
    "model=linreg.fit(X_train, y_train)  \n",
    "print (model ) \n",
    "print (linreg.intercept_ ) \n",
    "print (linreg.coef_  )"
   ]
  },
  {
   "cell_type": "code",
   "execution_count": 14,
   "metadata": {},
   "outputs": [
    {
     "data": {
      "text/plain": [
       "<zip at 0x23d6f850048>"
      ]
     },
     "execution_count": 14,
     "metadata": {},
     "output_type": "execute_result"
    }
   ],
   "source": [
    "# pair the feature names with the coefficients  \n",
    "zip(feature_cols, linreg.coef_)  "
   ]
  },
  {
   "cell_type": "code",
   "execution_count": 15,
   "metadata": {},
   "outputs": [
    {
     "name": "stdout",
     "output_type": "stream",
     "text": [
      "[4631932.07454575 4587692.84381862 4282468.0586545  4101554.74350131\n",
      " 4318318.10603595 4223938.49956654 4360395.12601206 4020515.40934542\n",
      " 3538351.9769229  4283584.45081356 4635697.483787   4183758.49028086\n",
      " 4170114.22584478 4389393.54642836 4295124.95179188 4436246.86223296\n",
      " 4134348.46015843 3921505.18201929 4671592.93391402 4630376.66661304\n",
      " 4237851.89907472 4213972.33909149 4646608.93679922 4187033.00155482\n",
      " 4734529.33322119 4191282.33786742 4348551.13209793 4311827.87979952\n",
      " 4278014.4683771  4552849.96719122 4463356.17610867 4124772.96189676\n",
      " 4135412.70033966 4221083.94324399 4212197.41983104 4314092.33108994\n",
      " 4371353.44060048 4193697.96216046 4613495.28112033 4177885.00668034\n",
      " 4341778.91476451 4223969.87589043 4263405.48005287 4441786.41593132\n",
      " 4087832.72385367 3952900.77991249 4473388.94269027 4402460.49923158\n",
      " 4300030.89999339 4576359.18638968 4200596.50959301 4137276.56746567\n",
      " 4121691.56468072 3966641.6026549  4779135.779313   4178285.64445682\n",
      " 4664576.1080453  4246836.628969   4277689.55347665 4637021.44266004\n",
      " 4477132.90881058 4302477.71333474 3934595.1318002  4305809.82735491\n",
      " 4089180.83636554 4317737.355894   4123180.06427027 4340202.47101902\n",
      " 4727994.16403906 4494420.15841064 4340729.18192162 4332184.01386141\n",
      " 4246737.26357483 4385082.72436453 4350622.29625517 4321147.44546229\n",
      " 4320938.31436245 3953893.43686343 4517304.23388533 4288687.80515924\n",
      " 4019171.08077281 4724517.06375602 4432869.79777532 4563687.28406678\n",
      " 4548160.88069342 4281134.05309716 4570970.88722426 4334535.42864583\n",
      " 4150982.41009798 4201196.54412251 4291307.28798122 4227460.63432884]\n",
      "<class 'numpy.ndarray'>\n"
     ]
    }
   ],
   "source": [
    "y_pred = linreg.predict(X_test)  \n",
    "print (y_pred) \n",
    "print (type(y_pred)  )"
   ]
  },
  {
   "cell_type": "code",
   "execution_count": 16,
   "metadata": {},
   "outputs": [
    {
     "name": "stdout",
     "output_type": "stream",
     "text": [
      "<class 'numpy.ndarray'> <class 'pandas.core.series.Series'>\n",
      "92 92\n",
      "(92,) (92,)\n",
      "RMSE by hand: 184487.8063662318\n"
     ]
    }
   ],
   "source": [
    "print (type(y_pred),type(y_test)  )\n",
    "print (len(y_pred),len(y_test) ) \n",
    "print (y_pred.shape,y_test.shape)  \n",
    "from sklearn import metrics  \n",
    "import numpy as np  \n",
    "sum_mean=0  \n",
    "for i in range(len(y_pred)):  \n",
    "    sum_mean+=(y_pred[i]-y_test.values[i])**2  \n",
    "sum_erro=np.sqrt(sum_mean/50)  \n",
    "# calculate RMSE by hand  \n",
    "print( \"RMSE by hand:\",sum_erro  )"
   ]
  },
  {
   "cell_type": "code",
   "execution_count": 17,
   "metadata": {},
   "outputs": [
    {
     "data": {
      "image/png": "[encoded data removed]",
      "text/plain": [
       "<Figure size 432x288 with 1 Axes>"
      ]
     },
     "metadata": {},
     "output_type": "display_data"
    }
   ],
   "source": [
    "import matplotlib.pyplot as plt  \n",
    "plt.figure()  \n",
    "plt.plot(range(len(y_pred)),y_pred,'b',label=\"predict\")  \n",
    "plt.plot(range(len(y_test)),y_test,'r',label=\"test\")  \n",
    "plt.legend(loc=\"upper right\") #显示图中的标签  \n",
    "plt.xlabel(\"the number of 总供水量\")  \n",
    "plt.ylabel('value of 总供水量') \n",
    "plt.savefig('供水量预测6.png', dpi=1500)\n",
    "plt.show()  "
   ]
  },
  {
   "cell_type": "code",
   "execution_count": 20,
   "metadata": {},
   "outputs": [],
   "source": [
    "dict = {}\n",
    "for i in range(91):\n",
    "    dict[np.array(y_test)[i]] = y_pred[i]"
   ]
  },
  {
   "cell_type": "code",
   "execution_count": 24,
   "metadata": {},
   "outputs": [
    {
     "name": "stdout",
     "output_type": "stream",
     "text": [
      "r2_score: 0.6581427352849976\n",
      "explained_variance_score: 0.6678228780693981\n"
     ]
    }
   ],
   "source": [
    "from sklearn.metrics import explained_variance_score #越小代表结果越差\n",
    "from sklearn.metrics import r2_score\n",
    "print('r2_score:',r2_score(y_test,y_pred))\n",
    "print('explained_variance_score:',explained_variance_score(y_test,y_pred))"
   ]
  },
  {
   "cell_type": "code",
   "execution_count": 25,
   "metadata": {},
   "outputs": [
    {
     "data": {
      "text/plain": [
       "0.6521128512637315"
      ]
     },
     "execution_count": 25,
     "metadata": {},
     "output_type": "execute_result"
    }
   ],
   "source": [
    "model.score(X_train,y_train)"
   ]
  },
  {
   "cell_type": "markdown",
   "metadata": {},
   "source": [
    "dic_in = {'星期':input('星期:'),'最高温度':input('最高温度:'),'最低温度':input('最低温度:'), '天气':input('天气:'),\n",
    "'转天气':input('转天气:'), '风向':input('风向:'), '风力':input('风力:'), '空气质量指数':input('空气质量指数:'),\n",
    "'程度':input('程度:'),'节假日':input('节假日:')} #输入数据,保存到字典dic_in里面"
   ]
  },
  {
   "cell_type": "code",
   "execution_count": null,
   "metadata": {},
   "outputs": [],
   "source": [
    "def predict(dic_in):\n",
    "    dic = dict.fromkeys(dic_in,0)\n",
    "    for key in dic_in.keys():\n",
    "        if key in dic_in.keys():\n",
    "            dic_in[key] = dic_in[key]\n",
    "        else:\n",
    "            dic[str(key + '_' + dic_input[key])] = 1\n",
    "        pre_array = np.array(list(dic_in.values())).reshape((1,len(dic_in )))\n",
    "    return classfier.predict_proba(pre_array)[0]\n",
    "#定义函数，用于对输入的数据分裂"
   ]
  },
  {
   "cell_type": "code",
   "execution_count": null,
   "metadata": {},
   "outputs": [],
   "source": [
    "print(predict(dic_in)[1])"
   ]
  },
  {
   "cell_type": "code",
   "execution_count": null,
   "metadata": {},
   "outputs": [],
   "source": []
  },
  {
   "cell_type": "code",
   "execution_count": null,
   "metadata": {},
   "outputs": [],
   "source": []
  },
  {
   "cell_type": "code",
   "execution_count": null,
   "metadata": {},
   "outputs": [],
   "source": []
  }
 ],
 "metadata": {
  "kernelspec": {
   "display_name": "Python 3",
   "language": "python",
   "name": "python3"
  },
  "language_info": {
   "codemirror_mode": {
    "name": "ipython",
    "version": 3
   },
   "file_extension": ".py",
   "mimetype": "text/x-python",
   "name": "python",
   "nbconvert_exporter": "python",
   "pygments_lexer": "ipython3",
   "version": "3.6.5"
  }
 },
 "nbformat": 4,
 "nbformat_minor": 2
}
