{
 "cells": [
  {
   "cell_type": "code",
   "execution_count": 36,
   "metadata": {},
   "outputs": [],
   "source": [
    "import numpy as np\n",
    "import pandas as pd\n",
    "from sklearn import cross_validation\n",
    "from sklearn.cross_validation import train_test_split\n",
    "from sklearn.metrics import mean_squared_error #不太靠谱 太劲大求了。差的平方的均值\n",
    "from sklearn.metrics import explained_variance_score #越小代表结果越差\n",
    "from sklearn.metrics import mean_absolute_error\n",
    "from sklearn.metrics import r2_score\n",
    "from sklearn.model_selection import cross_val_score #交叉验证\n",
    "import matplotlib.pyplot as plt\n",
    "import matplotlib\n",
    "from sklearn.tree import DecisionTreeRegressor\n",
    "import matplotlib.dates as mdate\n",
    "matplotlib.rcParams['font.sans-serif'] = ['SimHei']\n",
    "%matplotlib inline\n",
    "X = pd.read_excel('./input5.xlsx')\n",
    "#X['dayofyear'] = X['日期'].apply(lambda x : x.dayofyear)\n",
    "X['year'] = X['日期'].apply(lambda x : x.year)\n",
    "X['dayofweek'] =  X['日期'].apply(lambda x: x.dayofweek)\n",
    "X['dayofmonth'] = X['日期'].apply(lambda x: x.day)\n",
    "X['前一天供水量'] = X['总供水量'].shift(1)\n",
    "X['再往前一天供水量'] = X['总供水量'].shift(2)\n",
    "X['与前一天空气质量差'] = X['空气质量指数'] - X['空气质量指数'].shift(1)\n",
    "X['与前一天湿度差值'] = X['平均相对湿度'] - X['平均相对湿度'].shift(1)\n",
    "X['与前一天最低气温差'] = X['最低气温'] - X['最低气温'].shift(1)\n",
    "X['与前一天最高气温差'] = X['最高气温'] - X['最高气温'].shift(1)\n",
    "X['与前一天平均温度差'] = X['平均气温'] - X['平均气温'].shift(1)\n",
    "X = X[~pd.isnull(X['再往前一天供水量'])]\n",
    "y = X.pop('总供水量')\n",
    "date = X['日期']\n",
    "drop = ['日期','星期','24节气','PM2.5','PM10','SO2','CO','NO2','O3_8h']\n",
    "X.drop(drop,axis = 1,inplace = True)\n",
    "X_reset = X.reset_index(drop = True)\n",
    "sunday_index = X_reset.loc[X_reset['节假日'] == '周末'].index\n",
    "for i in sunday_index:\n",
    "    if X_reset.loc[i,'dayofweek'] == 6:\n",
    "         X_reset.loc[i,'节假日'] = '周日'\n",
    "    if X_reset.loc[i,'dayofweek'] == 5:\n",
    "         X_reset.loc[i,'节假日'] = '周六'\n",
    "X_input = pd.get_dummies(X_reset)"
   ]
  },
  {
   "cell_type": "code",
   "execution_count": 37,
   "metadata": {
    "scrolled": false
   },
   "outputs": [
    {
     "name": "stderr",
     "output_type": "stream",
     "text": [
      "c:\\python3\\lib\\site-packages\\ipykernel_launcher.py:1: FutureWarning: reshape is deprecated and will raise in a subsequent release. Please use .values.reshape(...) instead\n",
      "  \"\"\"Entry point for launching an IPython kernel.\n"
     ]
    }
   ],
   "source": [
    "y_train = np.float32(y.reshape(964,1))"
   ]
  },
  {
   "cell_type": "code",
   "execution_count": 38,
   "metadata": {},
   "outputs": [],
   "source": [
    "inunits =  89\n",
    "h1_units = 15\n",
    "W1 = tf.Variable(tf.random_normal([inunits,h1_units],stddev = 0.1),name = 'w1')\n",
    "b1 = tf.Variable(tf.zeros([h1_units]),name = 'b1')\n",
    "W2 = tf.Variable(tf.zeros([h1_units,1]),name = 'w2')\n",
    "b2 = tf.Variable(tf.zeros([1]),name = 'b2')"
   ]
  },
  {
   "cell_type": "code",
   "execution_count": 39,
   "metadata": {},
   "outputs": [],
   "source": [
    "X = tf.placeholder(tf.float32,[None,inunits],name = 'X')\n",
    "Y = tf.placeholder(tf.float32,[None,1],name = 'Y')"
   ]
  },
  {
   "cell_type": "code",
   "execution_count": 40,
   "metadata": {},
   "outputs": [],
   "source": [
    "hidden1 = tf.matmul(X,W1) + b1\n",
    "y_p = tf.matmul(hidden1,W2) + b2"
   ]
  },
  {
   "cell_type": "code",
   "execution_count": 41,
   "metadata": {},
   "outputs": [],
   "source": [
    "loss = tf.reduce_mean(tf.reduce_sum(tf.abs(Y - y_p),reduction_indices=[1]))\n",
    "#先求和（按行求和），然后通过reduction_indices=[1] 将其压扁成一行，然后再求平均"
   ]
  },
  {
   "cell_type": "code",
   "execution_count": 42,
   "metadata": {},
   "outputs": [],
   "source": [
    "train_step = tf.train.AdagradOptimizer(0.01).minimize(loss)"
   ]
  },
  {
   "cell_type": "code",
   "execution_count": 54,
   "metadata": {},
   "outputs": [],
   "source": [
    "init=tf.global_variables_initializer()\n",
    "sess = tf.Session()\n",
    "sess.run(init)\n",
    "for i in range(100000):\n",
    "    _,l = sess.run([train_step,loss],feed_dict={X:X_input[:-21].values,Y:y_train[:-21]})"
   ]
  },
  {
   "cell_type": "code",
   "execution_count": 58,
   "metadata": {},
   "outputs": [],
   "source": [
    "y_pre = sess.run(y_p,feed_dict={X:X_input[-21:]})"
   ]
  },
  {
   "cell_type": "code",
   "execution_count": null,
   "metadata": {},
   "outputs": [],
   "source": [
    "import matplotlib as plt"
   ]
  },
  {
   "cell_type": "code",
   "execution_count": null,
   "metadata": {},
   "outputs": [],
   "source": [
    "fig1 = plt.figure(figsize=(10,6))\n",
    "ax1 = fig1.add_subplot(1,1,1) # 一行一列第一块\n",
    "ax1.xaxis.set_major_formatter(mdate.DateFormatter('%Y-%m-%d'))#设置时间标签显示格式\n",
    "#plt.xticks(pd.date_range('2014-09-01','2014-09-30'),rotation=90)\n",
    "plt.xticks(pd.date_range('2018-06-01','2018-06-25'),rotation = 45)\n",
    "plt.plot(date,Y_test.values,'-ro',label = '真实值')\n",
    "plt.plot(date,y_pre,'-bs',label = '预测值')\n",
    "plt.legend() \n",
    "print(np.mean(abs(Y_test-y_pre)))"
   ]
  },
  {
   "cell_type": "code",
   "execution_count": null,
   "metadata": {},
   "outputs": [],
   "source": []
  },
  {
   "cell_type": "code",
   "execution_count": null,
   "metadata": {},
   "outputs": [],
   "source": []
  },
  {
   "cell_type": "code",
   "execution_count": null,
   "metadata": {},
   "outputs": [],
   "source": []
  },
  {
   "cell_type": "code",
   "execution_count": null,
   "metadata": {},
   "outputs": [],
   "source": []
  },
  {
   "cell_type": "code",
   "execution_count": null,
   "metadata": {},
   "outputs": [],
   "source": []
  },
  {
   "cell_type": "code",
   "execution_count": 396,
   "metadata": {},
   "outputs": [
    {
     "name": "stdout",
     "output_type": "stream",
     "text": [
      "0.72740954\n",
      "0.0127105815\n",
      "0.008666841\n",
      "0.006682251\n",
      "0.005678601\n",
      "0.004834223\n",
      "0.004115295\n",
      "0.0035899114\n",
      "0.0032549077\n",
      "0.0030477417\n",
      "0.0029279082\n",
      "0.0028486515\n",
      "0.0027892673\n",
      "0.002744263\n",
      "0.002707633\n",
      "0.0026759342\n",
      "0.0026496614\n",
      "0.0026275234\n",
      "0.0026099947\n",
      "0.002594592\n",
      "0.0025791875\n",
      "0.0025676603\n",
      "0.0025575878\n",
      "0.002548677\n",
      "0.002540735\n",
      "0.0025325068\n",
      "0.0025256793\n",
      "0.0025197596\n",
      "0.0025145425\n",
      "0.0025099004\n"
     ]
    }
   ],
   "source": [
    "import tensorflow as tf\n",
    "import numpy as np\n",
    "def add_layer(inputs,in_size,out_size,activation_function=None):\n",
    "    Weights=tf.Variable(tf.random_normal([in_size,out_size]))\n",
    "    biases=tf.Variable(tf.zeros([1,out_size])+0.1)\n",
    "    Wx_plus_b=tf.matmul(inputs,Weights)+biases\n",
    "    if activation_function==None:\n",
    "        outputs=Wx_plus_b\n",
    "    else:\n",
    "        outputs=activation_function(Wx_plus_b)\n",
    "    return outputs\n",
    "x_data=np.linspace(-1,1,300)[:,np.newaxis] #300*1,输入只有一个神经元\n",
    "noise=np.random.normal(0,0.05,x_data.shape)\n",
    "y_data=np.square(x_data)-0.5+noise\n",
    "xs=tf.placeholder(tf.float32,[None,1])\n",
    "ys=tf.placeholder(tf.float32,[None,1])\n",
    "#定义隐含层,隐含层有10个神经元\n",
    "l1=add_layer(xs,1,10,activation_function=tf.nn.relu)\n",
    "#定义输出层,假设没有任何激活函数\n",
    "prediction=add_layer(l1,10,1,activation_function=None)\n",
    "loss=tf.reduce_mean(tf.reduce_sum(tf.square(ys-prediction),reduction_indices=[1]))\n",
    "train_step=tf.train.GradientDescentOptimizer(0.1).minimize(loss)\n",
    "init=tf.global_variables_initializer()\n",
    "with tf.Session() as sess:\n",
    "    sess.run(init)\n",
    "    for i in range(3000):\n",
    "        sess.run(train_step,feed_dict={xs:x_data,ys:y_data})\n",
    "        if i%100==0:\n",
    "            print(sess.run(loss,feed_dict={xs:x_data,ys:y_data}))"
   ]
  },
  {
   "cell_type": "code",
   "execution_count": 397,
   "metadata": {},
   "outputs": [],
   "source": [
    "a = tf.constant([[1],[2],[3]])\n",
    "b = tf.constant([[4],[5],[6]])\n",
    "c = tf.reduce_mean(tf.abs(a - b))"
   ]
  },
  {
   "cell_type": "code",
   "execution_count": 398,
   "metadata": {},
   "outputs": [],
   "source": [
    "se = tf.Session()"
   ]
  },
  {
   "cell_type": "code",
   "execution_count": 2,
   "metadata": {},
   "outputs": [],
   "source": [
    "import numpy as np"
   ]
  },
  {
   "cell_type": "code",
   "execution_count": 3,
   "metadata": {},
   "outputs": [
    {
     "data": {
      "text/plain": [
       "(4, 4)"
      ]
     },
     "execution_count": 3,
     "metadata": {},
     "output_type": "execute_result"
    }
   ],
   "source": [
    "z = np.array([[1, 2, 3, 4],\n",
    "          [5, 6, 7, 8],\n",
    "          [9, 10, 11, 12],\n",
    "          [13, 14, 15, 16]])\n",
    "z.shape"
   ]
  },
  {
   "cell_type": "code",
   "execution_count": 13,
   "metadata": {},
   "outputs": [
    {
     "data": {
      "text/plain": [
       "array([[ 1,  2,  3,  4,  5,  6,  7,  8],\n",
       "       [ 9, 10, 11, 12, 13, 14, 15, 16]])"
      ]
     },
     "execution_count": 13,
     "metadata": {},
     "output_type": "execute_result"
    }
   ],
   "source": [
    "z.reshape(2,-1)"
   ]
  },
  {
   "cell_type": "code",
   "execution_count": null,
   "metadata": {},
   "outputs": [],
   "source": []
  }
 ],
 "metadata": {
  "kernelspec": {
   "display_name": "Python 3",
   "language": "python",
   "name": "python3"
  },
  "language_info": {
   "codemirror_mode": {
    "name": "ipython",
    "version": 3
   },
   "file_extension": ".py",
   "mimetype": "text/x-python",
   "name": "python",
   "nbconvert_exporter": "python",
   "pygments_lexer": "ipython3",
   "version": "3.6.5"
  }
 },
 "nbformat": 4,
 "nbformat_minor": 2
}
