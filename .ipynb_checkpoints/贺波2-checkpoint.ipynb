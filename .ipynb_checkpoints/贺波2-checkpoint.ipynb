{
 "cells": [
  {
   "cell_type": "code",
   "execution_count": 169,
   "metadata": {},
   "outputs": [
    {
     "data": {
      "text/html": [
       "<div>\n",
       "<style scoped>\n",
       "    .dataframe tbody tr th:only-of-type {\n",
       "        vertical-align: middle;\n",
       "    }\n",
       "\n",
       "    .dataframe tbody tr th {\n",
       "        vertical-align: top;\n",
       "    }\n",
       "\n",
       "    .dataframe thead th {\n",
       "        text-align: right;\n",
       "    }\n",
       "</style>\n",
       "<table border=\"1\" class=\"dataframe\">\n",
       "  <thead>\n",
       "    <tr style=\"text-align: right;\">\n",
       "      <th></th>\n",
       "      <th>日期</th>\n",
       "      <th>星期</th>\n",
       "      <th>月份</th>\n",
       "      <th>四季</th>\n",
       "      <th>最高气温</th>\n",
       "      <th>最低气温</th>\n",
       "      <th>平均气温</th>\n",
       "      <th>温度等级</th>\n",
       "      <th>天气</th>\n",
       "      <th>转天气</th>\n",
       "      <th>...</th>\n",
       "      <th>CO</th>\n",
       "      <th>NO2</th>\n",
       "      <th>O3_8h</th>\n",
       "      <th>程度</th>\n",
       "      <th>节假日</th>\n",
       "      <th>总供水量</th>\n",
       "      <th>dayofyear</th>\n",
       "      <th>year</th>\n",
       "      <th>dayofweek</th>\n",
       "      <th>dayofmonth</th>\n",
       "    </tr>\n",
       "  </thead>\n",
       "  <tbody>\n",
       "    <tr>\n",
       "      <th>0</th>\n",
       "      <td>2015-11-03</td>\n",
       "      <td>星期二</td>\n",
       "      <td>11</td>\n",
       "      <td>冬</td>\n",
       "      <td>21</td>\n",
       "      <td>13</td>\n",
       "      <td>17.0</td>\n",
       "      <td>舒适</td>\n",
       "      <td>多云</td>\n",
       "      <td>多云</td>\n",
       "      <td>...</td>\n",
       "      <td>1.4</td>\n",
       "      <td>84</td>\n",
       "      <td>112</td>\n",
       "      <td>轻度污染</td>\n",
       "      <td>上班</td>\n",
       "      <td>4363379</td>\n",
       "      <td>307</td>\n",
       "      <td>2015</td>\n",
       "      <td>1</td>\n",
       "      <td>3</td>\n",
       "    </tr>\n",
       "    <tr>\n",
       "      <th>1</th>\n",
       "      <td>2015-11-04</td>\n",
       "      <td>星期三</td>\n",
       "      <td>11</td>\n",
       "      <td>冬</td>\n",
       "      <td>21</td>\n",
       "      <td>16</td>\n",
       "      <td>18.5</td>\n",
       "      <td>舒适</td>\n",
       "      <td>小雨</td>\n",
       "      <td>小雨</td>\n",
       "      <td>...</td>\n",
       "      <td>0.8</td>\n",
       "      <td>55</td>\n",
       "      <td>67</td>\n",
       "      <td>良</td>\n",
       "      <td>上班</td>\n",
       "      <td>4730486</td>\n",
       "      <td>308</td>\n",
       "      <td>2015</td>\n",
       "      <td>2</td>\n",
       "      <td>4</td>\n",
       "    </tr>\n",
       "    <tr>\n",
       "      <th>2</th>\n",
       "      <td>2015-11-05</td>\n",
       "      <td>星期四</td>\n",
       "      <td>11</td>\n",
       "      <td>冬</td>\n",
       "      <td>24</td>\n",
       "      <td>18</td>\n",
       "      <td>21.0</td>\n",
       "      <td>舒适</td>\n",
       "      <td>多云</td>\n",
       "      <td>多云</td>\n",
       "      <td>...</td>\n",
       "      <td>0.8</td>\n",
       "      <td>58</td>\n",
       "      <td>64</td>\n",
       "      <td>良</td>\n",
       "      <td>上班</td>\n",
       "      <td>4488866</td>\n",
       "      <td>309</td>\n",
       "      <td>2015</td>\n",
       "      <td>3</td>\n",
       "      <td>5</td>\n",
       "    </tr>\n",
       "    <tr>\n",
       "      <th>3</th>\n",
       "      <td>2015-11-06</td>\n",
       "      <td>星期五</td>\n",
       "      <td>11</td>\n",
       "      <td>冬</td>\n",
       "      <td>24</td>\n",
       "      <td>19</td>\n",
       "      <td>21.5</td>\n",
       "      <td>舒适</td>\n",
       "      <td>小雨</td>\n",
       "      <td>小雨</td>\n",
       "      <td>...</td>\n",
       "      <td>0.6</td>\n",
       "      <td>34</td>\n",
       "      <td>75</td>\n",
       "      <td>优</td>\n",
       "      <td>上班</td>\n",
       "      <td>4546968</td>\n",
       "      <td>310</td>\n",
       "      <td>2015</td>\n",
       "      <td>4</td>\n",
       "      <td>6</td>\n",
       "    </tr>\n",
       "    <tr>\n",
       "      <th>4</th>\n",
       "      <td>2015-11-07</td>\n",
       "      <td>星期六</td>\n",
       "      <td>11</td>\n",
       "      <td>冬</td>\n",
       "      <td>25</td>\n",
       "      <td>16</td>\n",
       "      <td>20.5</td>\n",
       "      <td>舒适</td>\n",
       "      <td>雷阵雨</td>\n",
       "      <td>阵雨</td>\n",
       "      <td>...</td>\n",
       "      <td>1.1</td>\n",
       "      <td>39</td>\n",
       "      <td>48</td>\n",
       "      <td>良</td>\n",
       "      <td>周末</td>\n",
       "      <td>4344288</td>\n",
       "      <td>311</td>\n",
       "      <td>2015</td>\n",
       "      <td>5</td>\n",
       "      <td>7</td>\n",
       "    </tr>\n",
       "  </tbody>\n",
       "</table>\n",
       "<p>5 rows × 26 columns</p>\n",
       "</div>"
      ],
      "text/plain": [
       "          日期   星期  月份 四季  最高气温  最低气温  平均气温 温度等级   天气 转天气    ...       CO NO2  \\\n",
       "0 2015-11-03  星期二  11  冬    21    13  17.0   舒适   多云  多云    ...      1.4  84   \n",
       "1 2015-11-04  星期三  11  冬    21    16  18.5   舒适   小雨  小雨    ...      0.8  55   \n",
       "2 2015-11-05  星期四  11  冬    24    18  21.0   舒适   多云  多云    ...      0.8  58   \n",
       "3 2015-11-06  星期五  11  冬    24    19  21.5   舒适   小雨  小雨    ...      0.6  34   \n",
       "4 2015-11-07  星期六  11  冬    25    16  20.5   舒适  雷阵雨  阵雨    ...      1.1  39   \n",
       "\n",
       "   O3_8h    程度  节假日     总供水量  dayofyear  year  dayofweek dayofmonth  \n",
       "0    112  轻度污染   上班  4363379        307  2015          1          3  \n",
       "1     67     良   上班  4730486        308  2015          2          4  \n",
       "2     64     良   上班  4488866        309  2015          3          5  \n",
       "3     75     优   上班  4546968        310  2015          4          6  \n",
       "4     48     良   周末  4344288        311  2015          5          7  \n",
       "\n",
       "[5 rows x 26 columns]"
      ]
     },
     "execution_count": 169,
     "metadata": {},
     "output_type": "execute_result"
    }
   ],
   "source": [
    "import numpy as np\n",
    "import pandas as pd\n",
    "from sklearn import cross_validation\n",
    "from sklearn.cross_validation import train_test_split\n",
    "from sklearn.metrics import mean_squared_error #不太靠谱 太劲大求了。差的平方的均值\n",
    "from sklearn.metrics import explained_variance_score #越小代表结果越差\n",
    "from sklearn.metrics import mean_absolute_error\n",
    "from sklearn.metrics import r2_score\n",
    "from sklearn.model_selection import cross_val_score #交叉验证\n",
    "X = pd.read_excel('./input4.xlsx')\n",
    "X['dayofyear'] = X['日期'].apply(lambda x : x.dayofyear)\n",
    "X['year'] = X['日期'].apply(lambda x : x.year)\n",
    "X['dayofweek'] =  X['日期'].apply(lambda x: x.dayofweek)\n",
    "X['dayofmonth'] = X['日期'].apply(lambda x: x.day)\n",
    "X.head()"
   ]
  },
  {
   "cell_type": "code",
   "execution_count": 173,
   "metadata": {},
   "outputs": [],
   "source": [
    "X['前一天供水量'] = X['总供水量'].shift(1)\n",
    "X['再往前一天供水量'] = X['总供水量'].shift(2)\n",
    "X = X[~pd.isnull(X['再往前一天供水量'])]\n",
    "y = X.pop('总供水量')\n",
    "drop = ['日期','PM2.5','PM10','SO2','CO','NO2','O3_8h','星期']\n",
    "X.drop(drop,axis = 1,inplace = True)\n",
    "X_input = pd.get_dummies(X)\n",
    "X_train,X_test,y_train,y_test = train_test_split(X_input,y,test_size = 0.2)"
   ]
  },
  {
   "cell_type": "code",
   "execution_count": 82,
   "metadata": {
    "scrolled": true
   },
   "outputs": [
    {
     "name": "stdout",
     "output_type": "stream",
     "text": [
      "r2_score: 0.8465018385470069\n",
      "explained_variance_score: 0.8468259437087178\n",
      "score: 0.8465018385470069\n"
     ]
    }
   ],
   "source": [
    "from sklearn.ensemble import RandomForestRegressor#随机森林回归\n",
    "random_regressor = RandomForestRegressor(n_estimators=100)\n",
    "random_regressor.fit(X_train,y_train)\n",
    "y_pre = random_regressor.predict(X_test)\n",
    "#mean_absolute_error(y_test,y_pre)\n",
    "dict = {}\n",
    "for i in range(182):\n",
    "    dict[np.array(y_test)[i]] = y_pre[i]\n",
    "print('r2_score:',r2_score(y_test,y_pre))\n",
    "print('explained_variance_score:',explained_variance_score(y_test,y_pre))\n",
    "print('score:',random_regressor.score(X_test,y_test))"
   ]
  },
  {
   "cell_type": "code",
   "execution_count": 5,
   "metadata": {
    "scrolled": false
   },
   "outputs": [],
   "source": [
    "#cross_val_score(random_regressor,X_input,y,cv = 10)"
   ]
  },
  {
   "cell_type": "code",
   "execution_count": 81,
   "metadata": {},
   "outputs": [
    {
     "name": "stdout",
     "output_type": "stream",
     "text": [
      "r2_score: 0.8486629299776367\n",
      "explained_variance_score: 0.8494207376328999\n"
     ]
    }
   ],
   "source": [
    "from xgboost import XGBRegressor\n",
    "clf = XGBRegressor()\n",
    "clf.fit(X_train,y_train)\n",
    "y_pre = clf.predict(X_test)\n",
    "print('r2_score:',r2_score(y_test,y_pre))\n",
    "print('explained_variance_score:',explained_variance_score(y_test,y_pre))"
   ]
  },
  {
   "cell_type": "code",
   "execution_count": 78,
   "metadata": {},
   "outputs": [],
   "source": [
    "dict = {}\n",
    "for i in range(182):\n",
    "    dict[np.array(y_test)[i]] = y_pre[i]"
   ]
  },
  {
   "cell_type": "code",
   "execution_count": 91,
   "metadata": {},
   "outputs": [],
   "source": [
    "params = [1,2,3,4,5,6,7,8,9,10]\n",
    "test_scores = []\n",
    "for param in params:\n",
    "    clf = XGBRegressor(max_depth=param)\n",
    "    test_score = -cross_val_score(clf, X_input, y, cv=10, scoring='neg_mean_absolute_error')\n",
    "    test_scores.append(np.mean(test_score))"
   ]
  },
  {
   "cell_type": "code",
   "execution_count": 75,
   "metadata": {
    "collapsed": true
   },
   "outputs": [
    {
     "name": "stdout",
     "output_type": "stream",
     "text": [
      "r2_score: 0.7979115434771915\n",
      "explained_variance_score: 0.7981242718885019\n",
      "r2_score: 0.8341784927892394\n",
      "explained_variance_score: 0.8349234285064612\n",
      "r2_score: 0.8486629299776367\n",
      "explained_variance_score: 0.8494207376328999\n",
      "r2_score: 0.8568535181082555\n",
      "explained_variance_score: 0.8580897879508271\n",
      "r2_score: 0.8588685728241431\n",
      "explained_variance_score: 0.8603864452888884\n",
      "r2_score: 0.8566368450358299\n",
      "explained_variance_score: 0.8578930954919182\n",
      "r2_score: 0.8566418370432003\n",
      "explained_variance_score: 0.8584465410380853\n",
      "r2_score: 0.8515713492825158\n",
      "explained_variance_score: 0.8545936310063764\n",
      "r2_score: 0.8413031312147741\n",
      "explained_variance_score: 0.845108590887831\n",
      "r2_score: 0.8417447868909596\n",
      "explained_variance_score: 0.8457317169473688\n"
     ]
    }
   ],
   "source": [
    "params = [1,2,3,4,5,6,7,8,9,10]\n",
    "test_scores = []\n",
    "for param in params:\n",
    "    clf = XGBRegressor(max_depth=param)\n",
    "    clf.fit(X_train,y_train)\n",
    "    y_pre = clf.predict(X_test)\n",
    "    print('r2_score:',r2_score(y_test,y_pre))\n",
    "    print('explained_variance_score:',explained_variance_score(y_test,y_pre))"
   ]
  },
  {
   "cell_type": "code",
   "execution_count": 92,
   "metadata": {},
   "outputs": [
    {
     "data": {
      "text/plain": [
       "Text(0.5,1,'max_depth vs CV Error')"
      ]
     },
     "execution_count": 92,
     "metadata": {},
     "output_type": "execute_result"
    },
    {
     "data": {
      "image/png": "[encoded data removed]",
      "text/plain": [
       "<Figure size 432x288 with 1 Axes>"
      ]
     },
     "metadata": {},
     "output_type": "display_data"
    }
   ],
   "source": [
    "import matplotlib.pyplot as plt\n",
    "%matplotlib inline\n",
    "plt.plot(params, test_scores)\n",
    "plt.title(\"max_depth vs CV Error\")"
   ]
  },
  {
   "cell_type": "markdown",
   "metadata": {},
   "source": [
    "#### Bagging\n",
    "\n",
    "Bagging把很多的小分类器放在一起，每个train随机的一部分数据，然后把它们的最终结果综合起来（多数投票制）。\n",
    "\n",
    "Sklearn已经直接提供了这套构架，我们直接调用就行："
   ]
  },
  {
   "cell_type": "code",
   "execution_count": 93,
   "metadata": {},
   "outputs": [],
   "source": [
    "from sklearn.ensemble import BaggingRegressor\n",
    "from sklearn.linear_model import Ridge\n",
    "from sklearn.model_selection import cross_val_score"
   ]
  },
  {
   "cell_type": "code",
   "execution_count": 109,
   "metadata": {},
   "outputs": [],
   "source": [
    "params = [1,10,15,20,25,30,40]\n",
    "test_bag_score = []\n",
    "for par in params:\n",
    "    bag_reg = BaggingRegressor(n_estimators = par,base_estimator =  XGBRegressor(max_depth=3))\n",
    "    test_bag_score.append(np.mean(-cross_val_score(bag_reg,X_input,y,cv = 10,scoring= 'neg_mean_absolute_error')))"
   ]
  },
  {
   "cell_type": "code",
   "execution_count": 110,
   "metadata": {},
   "outputs": [
    {
     "data": {
      "text/plain": [
       "[<matplotlib.lines.Line2D at 0x220ca4fd1d0>]"
      ]
     },
     "execution_count": 110,
     "metadata": {},
     "output_type": "execute_result"
    },
    {
     "data": {
      "image/png": "[encoded data removed]",
      "text/plain": [
       "<Figure size 432x288 with 1 Axes>"
      ]
     },
     "metadata": {},
     "output_type": "display_data"
    }
   ],
   "source": [
    "import matplotlib.pyplot as plt\n",
    "%matplotlib inline\n",
    "plt.plot(params,test_bag_score)"
   ]
  },
  {
   "cell_type": "code",
   "execution_count": 254,
   "metadata": {},
   "outputs": [
    {
     "data": {
      "text/plain": [
       "BaggingRegressor(base_estimator=XGBRegressor(base_score=0.5, booster='gbtree', colsample_bylevel=1,\n",
       "       colsample_bytree=1, gamma=0, learning_rate=0.1, max_delta_step=0,\n",
       "       max_depth=3, min_child_weight=1, missing=None, n_estimators=100,\n",
       "       n_jobs=1, nthread=None, objective='reg:linear', random_state=0,\n",
       "       reg_alpha=0, reg_lambda=1, scale_pos_weight=1, seed=None,\n",
       "       silent=True, subsample=1),\n",
       "         bootstrap=True, bootstrap_features=False, max_features=1.0,\n",
       "         max_samples=1.0, n_estimators=25, n_jobs=1, oob_score=False,\n",
       "         random_state=None, verbose=0, warm_start=False)"
      ]
     },
     "execution_count": 254,
     "metadata": {},
     "output_type": "execute_result"
    }
   ],
   "source": [
    "bag_reg = BaggingRegressor(n_estimators = 25,base_estimator =  XGBRegressor(max_depth=3))\n",
    "bag_reg.fit(X_train,y_train)\n",
    "#y_bag = bag_reg.predict(X_test)"
   ]
  },
  {
   "cell_type": "code",
   "execution_count": 102,
   "metadata": {},
   "outputs": [],
   "source": [
    "dict = {}\n",
    "for i in range(182):\n",
    "    dict[np.array(y_test)[i]] = y_bag[i]"
   ]
  },
  {
   "cell_type": "markdown",
   "metadata": {},
   "source": [
    "from sklearn import svm\n",
    "from sklearn.grid_search import GridSearchCV\n",
    "parameters = {'kernel':('linear','rbf'),'C':[1,10]}\n",
    "svr = svm.SVC()\n",
    "gridregressor = GridSearchCV(svr,parameters)\n",
    "gridregressor.fit(X_train,y_train)\n",
    "y_grid = gridregressor.predict(X_test)\n",
    "print('r2_score:',r2_score(y_test,y_grid))\n",
    "print('explained_variance_score:',explained_variance_score(y_test,y_grid))"
   ]
  },
  {
   "cell_type": "code",
   "execution_count": 114,
   "metadata": {},
   "outputs": [
    {
     "data": {
      "text/plain": [
       "Index(['月份', '最高气温', '最低气温', '平均气温', '空气质量指数', 'dayofyear', 'year',\n",
       "       'dayofweeek', 'dayofmonth', '前一天供水量', '再往前一天供水量', '四季_冬', '四季_夏',\n",
       "       '四季_春', '四季_秋', '温度等级_低温', '温度等级_舒适', '温度等级_较低温', '温度等级_较高温', '温度等级_高温',\n",
       "       '天气_中雨', '天气_多云', '天气_大雨', '天气_小雨', '天气_小雪', '天气_晴', '天气_暴雨', '天气_特大暴雨',\n",
       "       '天气_阴', '天气_阵雨', '天气_雨夹雪', '天气_雷阵雨', '转天气_中雨', '转天气_中雪', '转天气_多云',\n",
       "       '转天气_大雨', '转天气_小雨', '转天气_小雪', '转天气_晴', '转天气_暴雨', '转天气_阴', '转天气_阵雨',\n",
       "       '转天气_雨夹雪', '转天气_雷阵雨', '风向_东北风', '风向_东南风', '风向_东风', '风向_北风', '风向_南风',\n",
       "       '风向_西北风', '风向_西南风', '风向_西风', '风力_1-2级', '风力_1-3级', '风力_3-4级', '风力_4-5级',\n",
       "       '风力_5-6级', '程度_中度污染', '程度_优', '程度_良', '程度_轻度污染', '程度_重度污染', '节假日_上班',\n",
       "       '节假日_中秋', '节假日_元旦', '节假日_劳动', '节假日_周末', '节假日_国庆', '节假日_春节', '节假日_清明',\n",
       "       '节假日_端午'],\n",
       "      dtype='object')"
      ]
     },
     "execution_count": 114,
     "metadata": {},
     "output_type": "execute_result"
    }
   ],
   "source": [
    "X_test.columns"
   ]
  },
  {
   "cell_type": "code",
   "execution_count": 142,
   "metadata": {},
   "outputs": [],
   "source": []
  },
  {
   "cell_type": "code",
   "execution_count": 143,
   "metadata": {
    "scrolled": false
   },
   "outputs": [
    {
     "data": {
      "text/plain": [
       "Index(['月份', '四季', '最高气温', '最低气温', '平均气温', '温度等级', '天气', '转天气', '风向', '风力',\n",
       "       '空气质量指数', '程度', '节假日', 'dayofyear', 'year', 'dayofweeek', 'dayofmonth',\n",
       "       '前一天供水量', '再往前一天供水量', '日期'],\n",
       "      dtype='object')"
      ]
     },
     "execution_count": 143,
     "metadata": {},
     "output_type": "execute_result"
    }
   ],
   "source": [
    "X.columns"
   ]
  },
  {
   "cell_type": "code",
   "execution_count": 248,
   "metadata": {},
   "outputs": [],
   "source": [
    "X_new = pd.DataFrame(columns = X_test.columns)\n",
    "for i in range(6):\n",
    "    X_new.loc[i] = [0 for i in range(len(X_new.columns))]\n",
    "excel = pd.read_excel('./5.3-5.8.xlsx')"
   ]
  },
  {
   "cell_type": "code",
   "execution_count": 249,
   "metadata": {},
   "outputs": [],
   "source": [
    "X_new['dayofyear'] = excel['日期'].apply(lambda x:x.dayofyear)\n",
    "X_new['year'] = excel['日期'].apply(lambda x:x.year)\n",
    "X_new['dayofweek'] = excel['日期'].apply(lambda x:x.dayofweek)\n",
    "X_new['dayofmonth'] = excel['日期'].apply(lambda x:x.day)\n",
    "excel.drop('日期',axis = 1,inplace = True)\n",
    "for j in excel.index:\n",
    "    for i in excel.columns:\n",
    "        if i in X_new.columns:\n",
    "            X_new.loc[j,i] = excel.iloc[j][i]\n",
    "        else:\n",
    "            str_1 = i + '_' + excel.iloc[j][i]\n",
    "            X_new.loc[j,str_1] = 1"
   ]
  },
  {
   "cell_type": "code",
   "execution_count": 163,
   "metadata": {},
   "outputs": [],
   "source": [
    "X_new.to_csv('5-3.csv')"
   ]
  },
  {
   "cell_type": "code",
   "execution_count": 251,
   "metadata": {},
   "outputs": [],
   "source": [
    "#5-3\n",
    "X_new.loc[0,['前一天供水量']] = 4181836\n",
    "X_new.loc[0,['再往前一天供水量']] = 4178174\n",
    "#5-4\n",
    "X_new.loc[1,['前一天供水量']] = 4194251\n",
    "X_new.loc[1,['再往前一天供水量']] = 4181836\n",
    "#5-5\n",
    "X_new.loc[2,['前一天供水量']] = 4173107\n",
    "X_new.loc[2,['再往前一天供水量']] = 4194251\n",
    "#5-6\n",
    "X_new.loc[3,['前一天供水量']] = 3981697\n",
    "X_new.loc[3,['再往前一天供水量']] =4173107\n",
    "#5-7\n",
    "X_new.loc[4,['前一天供水量']] = 4188802\n",
    "X_new.loc[4,['再往前一天供水量']] = 3981697\n",
    "#5-8\n",
    "X_new.loc[5,['前一天供水量']] = 4105085\n",
    "X_new.loc[5,['再往前一天供水量']] = 4188802\n"
   ]
  },
  {
   "cell_type": "code",
   "execution_count": 252,
   "metadata": {},
   "outputs": [
    {
     "data": {
      "text/html": [
       "<div>\n",
       "<style scoped>\n",
       "    .dataframe tbody tr th:only-of-type {\n",
       "        vertical-align: middle;\n",
       "    }\n",
       "\n",
       "    .dataframe tbody tr th {\n",
       "        vertical-align: top;\n",
       "    }\n",
       "\n",
       "    .dataframe thead th {\n",
       "        text-align: right;\n",
       "    }\n",
       "</style>\n",
       "<table border=\"1\" class=\"dataframe\">\n",
       "  <thead>\n",
       "    <tr style=\"text-align: right;\">\n",
       "      <th></th>\n",
       "      <th>月份</th>\n",
       "      <th>最高气温</th>\n",
       "      <th>最低气温</th>\n",
       "      <th>平均气温</th>\n",
       "      <th>空气质量指数</th>\n",
       "      <th>dayofyear</th>\n",
       "      <th>year</th>\n",
       "      <th>dayofweek</th>\n",
       "      <th>dayofmonth</th>\n",
       "      <th>前一天供水量</th>\n",
       "      <th>...</th>\n",
       "      <th>程度_重度污染</th>\n",
       "      <th>节假日_上班</th>\n",
       "      <th>节假日_中秋</th>\n",
       "      <th>节假日_元旦</th>\n",
       "      <th>节假日_劳动</th>\n",
       "      <th>节假日_周末</th>\n",
       "      <th>节假日_国庆</th>\n",
       "      <th>节假日_春节</th>\n",
       "      <th>节假日_清明</th>\n",
       "      <th>节假日_端午</th>\n",
       "    </tr>\n",
       "  </thead>\n",
       "  <tbody>\n",
       "    <tr>\n",
       "      <th>0</th>\n",
       "      <td>5</td>\n",
       "      <td>25</td>\n",
       "      <td>16</td>\n",
       "      <td>20.5</td>\n",
       "      <td>58</td>\n",
       "      <td>123</td>\n",
       "      <td>2018</td>\n",
       "      <td>3</td>\n",
       "      <td>3</td>\n",
       "      <td>4181836</td>\n",
       "      <td>...</td>\n",
       "      <td>0</td>\n",
       "      <td>1</td>\n",
       "      <td>0</td>\n",
       "      <td>0</td>\n",
       "      <td>0</td>\n",
       "      <td>0</td>\n",
       "      <td>0</td>\n",
       "      <td>0</td>\n",
       "      <td>0</td>\n",
       "      <td>0</td>\n",
       "    </tr>\n",
       "    <tr>\n",
       "      <th>1</th>\n",
       "      <td>5</td>\n",
       "      <td>27</td>\n",
       "      <td>19</td>\n",
       "      <td>23</td>\n",
       "      <td>73</td>\n",
       "      <td>124</td>\n",
       "      <td>2018</td>\n",
       "      <td>4</td>\n",
       "      <td>4</td>\n",
       "      <td>4181836</td>\n",
       "      <td>...</td>\n",
       "      <td>0</td>\n",
       "      <td>1</td>\n",
       "      <td>0</td>\n",
       "      <td>0</td>\n",
       "      <td>0</td>\n",
       "      <td>0</td>\n",
       "      <td>0</td>\n",
       "      <td>0</td>\n",
       "      <td>0</td>\n",
       "      <td>0</td>\n",
       "    </tr>\n",
       "    <tr>\n",
       "      <th>2</th>\n",
       "      <td>5</td>\n",
       "      <td>23</td>\n",
       "      <td>20</td>\n",
       "      <td>21.5</td>\n",
       "      <td>47</td>\n",
       "      <td>125</td>\n",
       "      <td>2018</td>\n",
       "      <td>5</td>\n",
       "      <td>5</td>\n",
       "      <td>4181836</td>\n",
       "      <td>...</td>\n",
       "      <td>0</td>\n",
       "      <td>0</td>\n",
       "      <td>0</td>\n",
       "      <td>0</td>\n",
       "      <td>0</td>\n",
       "      <td>1</td>\n",
       "      <td>0</td>\n",
       "      <td>0</td>\n",
       "      <td>0</td>\n",
       "      <td>0</td>\n",
       "    </tr>\n",
       "    <tr>\n",
       "      <th>3</th>\n",
       "      <td>5</td>\n",
       "      <td>28</td>\n",
       "      <td>18</td>\n",
       "      <td>23</td>\n",
       "      <td>61</td>\n",
       "      <td>126</td>\n",
       "      <td>2018</td>\n",
       "      <td>6</td>\n",
       "      <td>6</td>\n",
       "      <td>4181836</td>\n",
       "      <td>...</td>\n",
       "      <td>0</td>\n",
       "      <td>0</td>\n",
       "      <td>0</td>\n",
       "      <td>0</td>\n",
       "      <td>0</td>\n",
       "      <td>1</td>\n",
       "      <td>0</td>\n",
       "      <td>0</td>\n",
       "      <td>0</td>\n",
       "      <td>0</td>\n",
       "    </tr>\n",
       "    <tr>\n",
       "      <th>4</th>\n",
       "      <td>5</td>\n",
       "      <td>23</td>\n",
       "      <td>17</td>\n",
       "      <td>20</td>\n",
       "      <td>49</td>\n",
       "      <td>127</td>\n",
       "      <td>2018</td>\n",
       "      <td>0</td>\n",
       "      <td>7</td>\n",
       "      <td>4181836</td>\n",
       "      <td>...</td>\n",
       "      <td>0</td>\n",
       "      <td>1</td>\n",
       "      <td>0</td>\n",
       "      <td>0</td>\n",
       "      <td>0</td>\n",
       "      <td>0</td>\n",
       "      <td>0</td>\n",
       "      <td>0</td>\n",
       "      <td>0</td>\n",
       "      <td>0</td>\n",
       "    </tr>\n",
       "    <tr>\n",
       "      <th>5</th>\n",
       "      <td>5</td>\n",
       "      <td>24</td>\n",
       "      <td>15</td>\n",
       "      <td>19.5</td>\n",
       "      <td>58</td>\n",
       "      <td>128</td>\n",
       "      <td>2018</td>\n",
       "      <td>1</td>\n",
       "      <td>8</td>\n",
       "      <td>4181836</td>\n",
       "      <td>...</td>\n",
       "      <td>0</td>\n",
       "      <td>1</td>\n",
       "      <td>0</td>\n",
       "      <td>0</td>\n",
       "      <td>0</td>\n",
       "      <td>0</td>\n",
       "      <td>0</td>\n",
       "      <td>0</td>\n",
       "      <td>0</td>\n",
       "      <td>0</td>\n",
       "    </tr>\n",
       "  </tbody>\n",
       "</table>\n",
       "<p>6 rows × 71 columns</p>\n",
       "</div>"
      ],
      "text/plain": [
       "   月份  最高气温  最低气温  平均气温  空气质量指数  dayofyear  year  dayofweek  dayofmonth  \\\n",
       "0   5    25    16  20.5      58        123  2018          3           3   \n",
       "1   5    27    19    23      73        124  2018          4           4   \n",
       "2   5    23    20  21.5      47        125  2018          5           5   \n",
       "3   5    28    18    23      61        126  2018          6           6   \n",
       "4   5    23    17    20      49        127  2018          0           7   \n",
       "5   5    24    15  19.5      58        128  2018          1           8   \n",
       "\n",
       "    前一天供水量  ...    程度_重度污染 节假日_上班  节假日_中秋 节假日_元旦 节假日_劳动 节假日_周末  节假日_国庆 节假日_春节  \\\n",
       "0  4181836  ...          0      1       0      0      0      0       0      0   \n",
       "1  4181836  ...          0      1       0      0      0      0       0      0   \n",
       "2  4181836  ...          0      0       0      0      0      1       0      0   \n",
       "3  4181836  ...          0      0       0      0      0      1       0      0   \n",
       "4  4181836  ...          0      1       0      0      0      0       0      0   \n",
       "5  4181836  ...          0      1       0      0      0      0       0      0   \n",
       "\n",
       "  节假日_清明 节假日_端午  \n",
       "0      0      0  \n",
       "1      0      0  \n",
       "2      0      0  \n",
       "3      0      0  \n",
       "4      0      0  \n",
       "5      0      0  \n",
       "\n",
       "[6 rows x 71 columns]"
      ]
     },
     "execution_count": 252,
     "metadata": {},
     "output_type": "execute_result"
    }
   ],
   "source": [
    "X_new"
   ]
  },
  {
   "cell_type": "code",
   "execution_count": 256,
   "metadata": {},
   "outputs": [],
   "source": [
    "y_pre = bag_reg.predict(X_new)"
   ]
  },
  {
   "cell_type": "code",
   "execution_count": 257,
   "metadata": {},
   "outputs": [
    {
     "data": {
      "text/plain": [
       "array([4228254. , 4261551.5, 4142172.2, 4170699.8, 4225365. , 4224324. ],\n",
       "      dtype=float32)"
      ]
     },
     "execution_count": 257,
     "metadata": {},
     "output_type": "execute_result"
    }
   ],
   "source": [
    "y_pre"
   ]
  },
  {
   "cell_type": "code",
   "execution_count": null,
   "metadata": {},
   "outputs": [],
   "source": []
  }
 ],
 "metadata": {
  "kernelspec": {
   "display_name": "Python 3",
   "language": "python",
   "name": "python3"
  },
  "language_info": {
   "codemirror_mode": {
    "name": "ipython",
    "version": 3
   },
   "file_extension": ".py",
   "mimetype": "text/x-python",
   "name": "python",
   "nbconvert_exporter": "python",
   "pygments_lexer": "ipython3",
   "version": "3.6.5"
  }
 },
 "nbformat": 4,
 "nbformat_minor": 2
}
