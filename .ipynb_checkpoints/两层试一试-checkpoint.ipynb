{
 "cells": [
  {
   "cell_type": "code",
   "execution_count": 21,
   "metadata": {},
   "outputs": [],
   "source": [
    "import tensorflow as tf\n",
    "import numpy as np\n",
    "import pandas as pd"
   ]
  },
  {
   "cell_type": "code",
   "execution_count": 22,
   "metadata": {},
   "outputs": [
    {
     "name": "stderr",
     "output_type": "stream",
     "text": [
      "c:\\python3\\lib\\site-packages\\ipykernel_launcher.py:13: FutureWarning: reshape is deprecated and will raise in a subsequent release. Please use .values.reshape(...) instead\n",
      "  del sys.path[0]\n"
     ]
    }
   ],
   "source": [
    "X = pd.read_excel('./input4.xlsx')\n",
    "X['dayofyear'] = X['日期'].apply(lambda x : x.dayofyear)\n",
    "X['year'] = X['日期'].apply(lambda x : x.year)\n",
    "X['dayofweek'] =  X['日期'].apply(lambda x: x.dayofweek)\n",
    "X['dayofmonth'] = X['日期'].apply(lambda x: x.day)\n",
    "X['前一天供水量'] = X['总供水量'].shift(1)\n",
    "X['再往前一天供水量'] = X['总供水量'].shift(2)\n",
    "X = X[~pd.isnull(X['再往前一天供水量'])]\n",
    "y = X.pop('总供水量')\n",
    "drop = ['日期','PM2.5','PM10','SO2','CO','NO2','O3_8h','星期']\n",
    "X.drop(drop,axis = 1,inplace = True)\n",
    "X_input = pd.get_dummies(X)\n",
    "y = np.float32(y.reshape(910,1))"
   ]
  },
  {
   "cell_type": "code",
   "execution_count": 23,
   "metadata": {},
   "outputs": [],
   "source": [
    "inunits =  71\n",
    "h1_units = 10\n",
    "h2_units = 5\n",
    "W1 = tf.Variable(tf.random_normal([inunits,h1_units],stddev = 0.1),name = 'w1')\n",
    "b1 = tf.Variable(tf.zeros([h1_units]),name = 'b1')\n",
    "W2 = tf.Variable(tf.zeros([h1_units,h2_units]),name = 'w2')\n",
    "b2 = tf.Variable(tf.zeros([h2_units]),name = 'b2')\n",
    "W3 = tf.Variable(tf.zeros([h2_units,1]),name = 'w3')\n",
    "b3 = tf.Variable(tf.zeros([1]),name = 'b3')"
   ]
  },
  {
   "cell_type": "code",
   "execution_count": 24,
   "metadata": {},
   "outputs": [],
   "source": [
    "X = tf.placeholder(tf.float32,[None,inunits],name = 'X')\n",
    "Y = tf.placeholder(tf.float32,[None,1],name = 'Y')"
   ]
  },
  {
   "cell_type": "code",
   "execution_count": 25,
   "metadata": {},
   "outputs": [],
   "source": [
    "hidden1 = tf.matmul(X,W1) + b1\n",
    "hidden2 = tf.matmul(hidden1,W2) + b2\n",
    "y_p = tf.matmul(hidden2,W3) + b3"
   ]
  },
  {
   "cell_type": "code",
   "execution_count": 29,
   "metadata": {},
   "outputs": [],
   "source": [
    "#loss = tf.reduce_mean(tf.reduce_sum(tf.abs(Y - y_p),reduction_indices=[1]))\n",
    "#先求和（按行求和），然后通过reduction_indices=[1] 将其压扁成一行，然后再求平均\n",
    "loss = tf.reduce_mean(tf.abs(Y - y_p))"
   ]
  },
  {
   "cell_type": "code",
   "execution_count": 30,
   "metadata": {},
   "outputs": [],
   "source": [
    "train_step = tf.train.AdamOptimizer(0.01).minimize(loss)"
   ]
  },
  {
   "cell_type": "code",
   "execution_count": 31,
   "metadata": {},
   "outputs": [
    {
     "name": "stdout",
     "output_type": "stream",
     "text": [
      "18736203000000.0\n",
      "18736203000000.0\n",
      "18736203000000.0\n",
      "18736200000000.0\n",
      "18736200000000.0\n",
      "18736200000000.0\n",
      "18736200000000.0\n",
      "18736200000000.0\n",
      "18736195000000.0\n",
      "18736195000000.0\n",
      "18736195000000.0\n",
      "18736195000000.0\n",
      "18736195000000.0\n",
      "18736193000000.0\n",
      "18736190000000.0\n",
      "18736190000000.0\n",
      "18736190000000.0\n",
      "18736190000000.0\n",
      "18736187000000.0\n",
      "18736187000000.0\n",
      "18736187000000.0\n",
      "18736187000000.0\n",
      "18736187000000.0\n",
      "18736185000000.0\n",
      "18736185000000.0\n",
      "18736185000000.0\n",
      "18736185000000.0\n",
      "18736182000000.0\n",
      "18736178000000.0\n",
      "18736178000000.0\n"
     ]
    }
   ],
   "source": [
    "init=tf.global_variables_initializer()\n",
    "with tf.Session() as sess:\n",
    "    sess.run(init)\n",
    "    writer = tf.summary.FileWriter('./graphs/两层试一试',sess.graph)\n",
    "    for i in range(300):\n",
    "        _,l = sess.run([train_step,loss],feed_dict={X:X_input.values,Y:y})\n",
    "        if(i%10==0):\n",
    "            print(l)\n",
    "    writer.close()"
   ]
  },
  {
   "cell_type": "code",
   "execution_count": null,
   "metadata": {},
   "outputs": [],
   "source": []
  }
 ],
 "metadata": {
  "kernelspec": {
   "display_name": "Python 3",
   "language": "python",
   "name": "python3"
  },
  "language_info": {
   "codemirror_mode": {
    "name": "ipython",
    "version": 3
   },
   "file_extension": ".py",
   "mimetype": "text/x-python",
   "name": "python",
   "nbconvert_exporter": "python",
   "pygments_lexer": "ipython3",
   "version": "3.6.5"
  }
 },
 "nbformat": 4,
 "nbformat_minor": 2
}
