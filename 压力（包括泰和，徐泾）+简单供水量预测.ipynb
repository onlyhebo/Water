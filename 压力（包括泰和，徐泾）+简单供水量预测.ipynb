{
 "cells": [
  {
   "cell_type": "code",
   "execution_count": 1,
   "metadata": {},
   "outputs": [],
   "source": [
    "import numpy as np # 数组操作\n",
    "import pandas as pd #文件操作\n",
    "import datetime\n",
    "import time"
   ]
  },
  {
   "cell_type": "code",
   "execution_count": 2,
   "metadata": {},
   "outputs": [],
   "source": [
    "data = pd.read_excel('C:/Users/admin/Desktop/供水量预测/总供水量预测/input3.xlsx')  "
   ]
  },
  {
   "cell_type": "code",
   "execution_count": 3,
   "metadata": {},
   "outputs": [
    {
     "data": {
      "text/plain": [
       "<matplotlib.figure.Figure at 0x1ce7c1144a8>"
      ]
     },
     "metadata": {},
     "output_type": "display_data"
    }
   ],
   "source": [
    "import seaborn as sns  \n",
    "import matplotlib.pyplot as plt   \n",
    "# visualize the relationship between the features and the response using scatterplots  \n",
    "sns.pairplot(data, x_vars=['星期','月份','四季','最高气温','最低气温','平均气温','温度等级','天气','转天气','风向','风力','空气质量指数','程度','节假日','宝山压力','沪北压力'\n",
    "                          ,'沪东压力','闵行压力','青东压力','市南压力','松北压力','长桥压力','闵行水厂一期压力','闵行水厂二期压力','闵行水厂三期压力','闵行水厂四期压力','罗泾水厂压力','市南水厂压力'\n",
    "                          ,'泰和水厂一厂压力','泰和水厂二厂压力','泰和水厂三厂压力','徐泾水厂压力','吴淞水厂压力','杨树浦水厂压力','闸北水厂压力','长桥水厂压力'], y_vars='总供水量', size=6, aspect=2 ) \n",
    "plt.show()#注意必须加上这一句，否则无法显示。  "
   ]
  },
  {
   "cell_type": "code",
   "execution_count": 4,
   "metadata": {},
   "outputs": [],
   "source": [
    "y = data.pop('总供水量') #将y值取出\n",
    "from sklearn.preprocessing import LabelEncoder # 转化为数字\n",
    "data = pd.get_dummies(data)"
   ]
  },
  {
   "cell_type": "code",
   "execution_count": 5,
   "metadata": {},
   "outputs": [
    {
     "name": "stdout",
     "output_type": "stream",
     "text": [
      "   最高气温  最低气温  平均气温        宝山压力        沪北压力        沪东压力        闵行压力  \\\n",
      "0    26    19  22.5  206.800000  182.750000  198.458333  220.382353   \n",
      "1    29    21  25.0  203.115385  173.000000  192.320000  212.514286   \n",
      "2    30    24  27.0  197.038462  174.523810  192.880000  229.114286   \n",
      "3    31    25  28.0  195.384615  169.619048  189.076923  208.485714   \n",
      "4    27    24  25.5  203.307692  175.333333  193.040000  216.371429   \n",
      "\n",
      "         青东压力        市南压力        松北压力   ...    程度_重度污染  程度_中度污染  节假日_上班  \\\n",
      "0  185.285714  196.333333  224.312500   ...          0        0       1   \n",
      "1  179.157895  198.500000  214.882353   ...          0        0       1   \n",
      "2  184.631579  207.833333  232.352941   ...          0        0       0   \n",
      "3  187.000000  197.000000  202.705882   ...          0        0       0   \n",
      "4  175.315789  189.833333  221.722222   ...          0        0       1   \n",
      "\n",
      "   节假日_元旦  节假日_春节  节假日_清明  节假日_劳动  节假日_端午  节假日_国庆  节假日_周末  \n",
      "0       0       0       0       0       0       0       0  \n",
      "1       0       0       0       0       0       0       0  \n",
      "2       0       0       0       0       0       0       1  \n",
      "3       0       0       0       0       0       0       1  \n",
      "4       0       0       0       0       0       0       0  \n",
      "\n",
      "[5 rows x 91 columns]\n",
      "<class 'pandas.core.frame.DataFrame'>\n",
      "(686, 91)\n"
     ]
    }
   ],
   "source": [
    "#create a python list of feature names  \n",
    "feature_cols = ['最高气温','最低气温','平均气温','宝山压力','沪北压力' ,'沪东压力','闵行压力','青东压力','市南压力','松北压力','长桥压力','闵行水厂一期压力','闵行水厂二期压力','闵行水厂三期压力','闵行水厂四期压力','罗泾水厂压力','市南水厂压力'\n",
    "                 ,'泰和水厂一厂压力','泰和水厂二厂压力','泰和水厂三厂压力','徐泾水厂压力','吴淞水厂压力','杨树浦水厂压力','闸北水厂压力','长桥水厂压力','温度等级_舒适','温度等级_高温','温度等级_较高温','温度等级_较低温','温度等级_低温','空气质量指数','星期_星期一','星期_星期三','星期_星期二','星期_星期五','星期_星期六',\n",
    "               '星期_星期日','月份','四季_春','四季_夏','四季_秋','四季_冬','天气_暴雨','天气_大雨','天气_多云','天气_雷阵雨','天气_晴','天气_特大暴雨','天气_小雪','天气_小雨','天气_阴',\n",
    "                '天气_雨夹雪','天气_中雨','天气_阵雨','转天气_暴雨','转天气_大雨','转天气_雷阵雨','转天气_小雨','转天气_多云','转天气_晴',\n",
    "               '转天气_阵雨','转天气_阴','转天气_中雨','转天气_雨夹雪','转天气_中雨','转天气_中雪','风向_东风','风向_南风','风向_北风','风向_西风',\n",
    "                '风向_东南风','风向_东北风','风向_西南风','风向_西北风','风力_1-2级','风力_3-4级','风力_4-5级','风力_5-6级',\n",
    "               '程度_优', '程度_良', '程度_轻度污染', '程度_重度污染', '程度_中度污染','节假日_上班','节假日_元旦','节假日_春节','节假日_清明'\n",
    "         ,'节假日_劳动','节假日_端午','节假日_国庆','节假日_周末']  \n",
    "# use the list to select a subset of the original DataFrame  \n",
    "X = data[feature_cols]  \n",
    "# equivalent command to do this in one line  \n",
    "X = data[['最高气温','最低气温','平均气温','宝山压力','沪北压力' ,'沪东压力','闵行压力','青东压力','市南压力','松北压力','长桥压力','闵行水厂一期压力','闵行水厂二期压力','闵行水厂三期压力','闵行水厂四期压力','罗泾水厂压力','市南水厂压力'\n",
    "                ,'泰和水厂一厂压力','泰和水厂二厂压力','泰和水厂三厂压力','徐泾水厂压力','吴淞水厂压力','杨树浦水厂压力','闸北水厂压力','长桥水厂压力','温度等级_舒适','温度等级_高温','温度等级_较高温','温度等级_较低温','温度等级_低温','空气质量指数','星期_星期一','星期_星期三','星期_星期二','星期_星期五','星期_星期六',\n",
    "               '星期_星期日','月份','四季_春','四季_夏','四季_秋','四季_冬','天气_暴雨','天气_大雨','天气_多云','天气_雷阵雨','天气_晴','天气_特大暴雨','天气_小雪','天气_小雨','天气_阴',\n",
    "                '天气_雨夹雪','天气_中雨','天气_阵雨','转天气_暴雨','转天气_大雨','转天气_雷阵雨','转天气_小雨','转天气_多云','转天气_晴',\n",
    "               '转天气_阵雨','转天气_阴','转天气_中雨','转天气_雨夹雪','转天气_中雨','转天气_中雪','风向_东风','风向_南风','风向_北风','风向_西风',\n",
    "                '风向_东南风','风向_东北风','风向_西南风','风向_西北风','风力_1-2级','风力_3-4级','风力_4-5级','风力_5-6级',\n",
    "               '程度_优', '程度_良', '程度_轻度污染', '程度_重度污染', '程度_中度污染','节假日_上班','节假日_元旦','节假日_春节','节假日_清明'\n",
    "         ,'节假日_劳动','节假日_端午','节假日_国庆','节假日_周末']]  \n",
    "# print the first 10 rows  \n",
    "print(X.head())\n",
    "# check the type and shape of X  \n",
    "print (type(X))  \n",
    "print (X.shape)  "
   ]
  },
  {
   "cell_type": "code",
   "execution_count": 6,
   "metadata": {},
   "outputs": [
    {
     "name": "stderr",
     "output_type": "stream",
     "text": [
      "C:\\Users\\admin\\AppData\\Local\\Continuum\\anaconda3\\lib\\site-packages\\sklearn\\cross_validation.py:41: DeprecationWarning: This module was deprecated in version 0.18 in favor of the model_selection module into which all the refactored classes and functions are moved. Also note that the interface of the new CV iterators are different from that of this module. This module will be removed in 0.20.\n",
      "  \"This module will be removed in 0.20.\", DeprecationWarning)\n"
     ]
    }
   ],
   "source": [
    "from sklearn.cross_validation import train_test_split  #这里是引用了交叉验证  \n",
    "X_train,X_test, y_train, y_test = train_test_split(X, y, test_size=0.1, random_state=0)  "
   ]
  },
  {
   "cell_type": "code",
   "execution_count": 7,
   "metadata": {},
   "outputs": [
    {
     "name": "stdout",
     "output_type": "stream",
     "text": [
      "LinearRegression(copy_X=True, fit_intercept=True, n_jobs=1, normalize=False)\n",
      "3320837.1209899625\n",
      "[ 5.74377534e+03  6.18875268e+03  5.96626401e+03  2.60745581e+03\n",
      "  5.12775667e+02 -3.71244420e+03 -1.80634091e+03 -8.58389540e+02\n",
      "  1.70159751e+01 -1.23837735e+02  1.77658225e+03 -3.00749049e+02\n",
      "  2.85761775e+02  3.32948275e+02  5.04667548e+02 -7.12432158e+02\n",
      " -5.04125307e+02  2.23445114e+03  9.12172365e+02  4.06308753e+02\n",
      " -5.78095352e+01 -2.89041622e+03 -1.55949298e+02  1.97440357e+03\n",
      " -1.47259044e+02 -8.79864705e+04  3.58999346e+04  1.23277735e+04\n",
      " -2.99311515e+04  6.96899138e+04  3.13288353e+02  1.81262244e+04\n",
      " -1.02783560e+04  2.63504607e+04 -2.99265698e+02 -4.24143073e+04\n",
      " -2.74885839e+04  7.62817559e+03  2.47500790e+03  3.92571102e+04\n",
      " -1.98410233e+04 -2.18910948e+04 -1.56083749e+05 -6.36206889e+04\n",
      "  7.38621198e+04 -1.61181956e+04  7.03283802e+04  6.67038365e+04\n",
      "  3.69149638e+03 -4.57729972e+03  4.07354092e+04  8.75453635e+04\n",
      " -4.68904431e+04 -5.55762287e+04 -7.34042292e+04  9.38406084e+04\n",
      "  4.51340695e+04 -2.87889793e+04  1.45947465e+03  2.16811316e+04\n",
      " -4.32388929e+04 -3.45778285e+04 -2.15649671e+04  3.57681164e+04\n",
      " -2.15649671e+04  3.69149638e+03 -7.29450711e+03 -6.05418859e+03\n",
      " -4.90968519e+03 -4.73275080e+03  4.79949311e+03  6.08257540e+03\n",
      "  2.71030025e+03  9.39876293e+03  3.53364861e+04  1.46678072e+04\n",
      " -2.29741523e+03 -4.77068780e+04  3.34831074e+03  1.06681629e+04\n",
      " -6.84203718e+03 -6.85082126e+04  6.13337762e+04  2.72254791e+05\n",
      "  2.54400366e+05 -4.44212442e+05  2.71767442e+04  1.05114286e+05\n",
      " -1.09290380e+04 -1.66488066e+05  3.05051406e+05]\n"
     ]
    }
   ],
   "source": [
    "from sklearn.linear_model import LinearRegression  \n",
    "linreg = LinearRegression()  \n",
    "model=linreg.fit(X_train, y_train)  \n",
    "print (model ) \n",
    "print (linreg.intercept_ ) \n",
    "print (linreg.coef_  )"
   ]
  },
  {
   "cell_type": "code",
   "execution_count": 8,
   "metadata": {},
   "outputs": [
    {
     "data": {
      "text/plain": [
       "<zip at 0x1ce02caadc8>"
      ]
     },
     "execution_count": 8,
     "metadata": {},
     "output_type": "execute_result"
    }
   ],
   "source": [
    "# pair the feature names with the coefficients  \n",
    "zip(feature_cols, linreg.coef_)  "
   ]
  },
  {
   "cell_type": "code",
   "execution_count": 9,
   "metadata": {},
   "outputs": [],
   "source": [
    "y_pred = linreg.predict(X_test)  "
   ]
  },
  {
   "cell_type": "code",
   "execution_count": 10,
   "metadata": {},
   "outputs": [
    {
     "name": "stdout",
     "output_type": "stream",
     "text": [
      "RMSE by hand: 140677.32508720455\n"
     ]
    }
   ],
   "source": [
    "from sklearn import metrics  \n",
    "import numpy as np  \n",
    "sum_mean=0  \n",
    "for i in range(len(y_pred)):  \n",
    "    sum_mean+=(y_pred[i]-y_test.values[i])**2  \n",
    "sum_erro=np.sqrt(sum_mean/50)  \n",
    "# calculate RMSE by hand  \n",
    "print( \"RMSE by hand:\",sum_erro  )"
   ]
  },
  {
   "cell_type": "code",
   "execution_count": 11,
   "metadata": {},
   "outputs": [
    {
     "data": {
      "image/png": "[encoded data removed]",
      "text/plain": [
       "<matplotlib.figure.Figure at 0x1ce025f0358>"
      ]
     },
     "metadata": {},
     "output_type": "display_data"
    }
   ],
   "source": [
    "import matplotlib.pyplot as plt  \n",
    "plt.figure()  \n",
    "plt.plot(range(len(y_pred)),y_pred,'b',label=\"predict\")  \n",
    "plt.plot(range(len(y_test)),y_test,'r',label=\"test\")  \n",
    "plt.legend(loc=\"upper right\") #显示图中的标签  \n",
    "plt.xlabel(\"the number of 总供水量\")  \n",
    "plt.ylabel('value of 总供水量') \n",
    "plt.savefig('供水量预测4.png', dpi=1500)\n",
    "plt.show()  "
   ]
  },
  {
   "cell_type": "code",
   "execution_count": 12,
   "metadata": {},
   "outputs": [
    {
     "data": {
      "text/plain": [
       "0.8786716692353881"
      ]
     },
     "execution_count": 12,
     "metadata": {},
     "output_type": "execute_result"
    }
   ],
   "source": [
    "model.score(X_train,y_train)"
   ]
  },
  {
   "cell_type": "code",
   "execution_count": null,
   "metadata": {},
   "outputs": [],
   "source": []
  }
 ],
 "metadata": {
  "kernelspec": {
   "display_name": "Python 3",
   "language": "python",
   "name": "python3"
  },
  "language_info": {
   "codemirror_mode": {
    "name": "ipython",
    "version": 3
   },
   "file_extension": ".py",
   "mimetype": "text/x-python",
   "name": "python",
   "nbconvert_exporter": "python",
   "pygments_lexer": "ipython3",
   "version": "3.6.5"
  }
 },
 "nbformat": 4,
 "nbformat_minor": 2
}
