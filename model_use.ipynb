{
 "cells": [
  {
   "cell_type": "code",
   "execution_count": 1,
   "metadata": {},
   "outputs": [],
   "source": [
    "from sklearn.externals import joblib\n",
    "import pandas as pd\n",
    "clf = joblib.load('model.pkl')#加载模型"
   ]
  },
  {
   "cell_type": "code",
   "execution_count": 2,
   "metadata": {},
   "outputs": [],
   "source": [
    "columns = ['月份', '最高气温', '最低气温', '平均气温', '空气质量指数', '平均相对湿度', '海平面大气压力', 'year',\n",
    "       'dayofweek', 'dayofmonth', '前一天供水量', '再往前一天供水量', '四季_冬', '四季_夏', '四季_春',\n",
    "       '四季_秋', '温度等级_低温', '温度等级_舒适', '温度等级_舒适偏冷', '温度等级_舒适偏热', '温度等级_超低温',\n",
    "       '温度等级_超高温', '温度等级_较低温', '温度等级_较高温', '温度等级_高温', '天气_中雨', '天气_多云',\n",
    "       '天气_大雨', '天气_小雨', '天气_小雪', '天气_晴', '天气_暴雨', '天气_特大暴雨', '天气_阴', '天气_阵雨',\n",
    "       '天气_雨夹雪', '天气_雷阵雨', '转天气_中雨', '转天气_中雪', '转天气_多云', '转天气_大雨', '转天气_小雨',\n",
    "       '转天气_小雪', '转天气_晴', '转天气_暴雨', '转天气_阴', '转天气_阵雨', '转天气_雨夹雪', '转天气_雷阵雨',\n",
    "       '风向_东北风', '风向_东南风', '风向_东风', '风向_北风', '风向_南风', '风向_西北风', '风向_西南风',\n",
    "       '风向_西风', '风力_1-2级', '风力_1-3级', '风力_3-4级', '风力_4-5级', '风力_5-6级',\n",
    "       '程度_中度污染', '程度_优', '程度_良', '程度_轻度污染', '程度_重度污染', '湿度等级_很潮湿', '湿度等级_潮湿',\n",
    "       '湿度等级_舒适', '湿度等级_舒适偏干', '湿度等级_舒适偏潮', '湿度等级_较干燥', '湿度等级_较潮湿', '节假日_上班',\n",
    "       '节假日_中秋', '节假日_元旦', '节假日_劳动', '节假日_周六', '节假日_周日', '节假日_国庆', '节假日_春节',\n",
    "       '节假日_清明', '节假日_端午', 'dayofyear']\n",
    "#确定列名"
   ]
  },
  {
   "cell_type": "code",
   "execution_count": 6,
   "metadata": {},
   "outputs": [],
   "source": [
    "X_new = pd.DataFrame(columns = columns)\n",
    "excel = pd.read_excel('./每日自变量输入.xlsx')\n",
    "for i in range(len(excel.index)):\n",
    "    X_new.loc[i] = 0\n",
    "X_new['dayofyear'] = excel['日期'].apply(lambda x:x.dayofyear)\n",
    "X_new['year'] = excel['日期'].apply(lambda x:x.year)\n",
    "X_new['dayofweek'] = excel['日期'].apply(lambda x:x.dayofweek)\n",
    "X_new['dayofmonth'] = excel['日期'].apply(lambda x:x.day)\n",
    "excel.drop('日期',axis = 1,inplace = True)\n",
    "for j in excel.index:\n",
    "    for i in excel.columns:\n",
    "        if i in X_new.columns:\n",
    "            X_new.loc[j,i] = excel.iloc[j][i]\n",
    "        else:\n",
    "            str_1 = i + '_' + excel.iloc[j][i].strip()\n",
    "            X_new.loc[j,str_1] = 1"
   ]
  },
  {
   "cell_type": "code",
   "execution_count": 4,
   "metadata": {},
   "outputs": [
    {
     "data": {
      "text/plain": [
       "array([4321781.5, 4245578.5, 4235838. , 4143101.5, 4252683.5, 4230224.5,\n",
       "       4182308.8, 4256572.5, 4263512. ], dtype=float32)"
      ]
     },
     "execution_count": 4,
     "metadata": {},
     "output_type": "execute_result"
    }
   ],
   "source": [
    "clf.predict(X_new)"
   ]
  },
  {
   "cell_type": "code",
   "execution_count": null,
   "metadata": {},
   "outputs": [],
   "source": []
  }
 ],
 "metadata": {
  "kernelspec": {
   "display_name": "Python 3",
   "language": "python",
   "name": "python3"
  },
  "language_info": {
   "codemirror_mode": {
    "name": "ipython",
    "version": 3
   },
   "file_extension": ".py",
   "mimetype": "text/x-python",
   "name": "python",
   "nbconvert_exporter": "python",
   "pygments_lexer": "ipython3",
   "version": "3.6.5"
  }
 },
 "nbformat": 4,
 "nbformat_minor": 2
}
